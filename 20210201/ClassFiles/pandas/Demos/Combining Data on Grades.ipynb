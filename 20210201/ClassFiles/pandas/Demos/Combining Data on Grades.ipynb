{
 "cells": [
  {
   "cell_type": "markdown",
   "metadata": {},
   "source": [
    "# Combining Data on Grades"
   ]
  },
  {
   "cell_type": "code",
   "execution_count": 1,
   "metadata": {},
   "outputs": [],
   "source": [
    "import numpy as np\n",
    "import pandas as pd\n",
    "\n",
    "pd.set_option('display.max_columns', 10)\n",
    "pd.set_option('display.max_rows', 10)"
   ]
  },
  {
   "cell_type": "markdown",
   "metadata": {},
   "source": [
    "### Given: Three Numpy Arrays of Grades"
   ]
  },
  {
   "cell_type": "code",
   "execution_count": 2,
   "metadata": {},
   "outputs": [],
   "source": [
    "np.random.seed(1)\n",
    "ar1 = np.random.choice(['A','B','C','D','F'], 100, p=[.2,.4,.3,.08,.02])\n",
    "ar2 = np.random.choice(['A','B','C','D','F'], 50, p=[.3,.4,.2,.1,0])\n",
    "ar3 = np.random.choice(['a','b','c','d','f'], 200, p=[.15,.45,.25,.13,.02])"
   ]
  },
  {
   "cell_type": "markdown",
   "metadata": {},
   "source": [
    "### Create pandas Series from these Arrays\n",
    "Use the default index for each. Save the series as `s1`, `s2` and `s3`"
   ]
  },
  {
   "cell_type": "code",
   "execution_count": 3,
   "metadata": {},
   "outputs": [],
   "source": [
    "s1 = pd.Series(ar1)\n",
    "s2 = pd.Series(ar2)\n",
    "s3 = pd.Series(ar3)"
   ]
  },
  {
   "cell_type": "markdown",
   "metadata": {},
   "source": [
    "### Get the Value Counts of each of the Series\n",
    "Save the resulting series as `grades1`, `grades2`, and `grades3`"
   ]
  },
  {
   "cell_type": "code",
   "execution_count": 4,
   "metadata": {},
   "outputs": [
    {
     "data": {
      "text/plain": [
       "b    90\n",
       "c    52\n",
       "d    33\n",
       "a    23\n",
       "f     2\n",
       "dtype: int64"
      ]
     },
     "execution_count": 4,
     "metadata": {},
     "output_type": "execute_result"
    }
   ],
   "source": [
    "grades1 = s1.value_counts()\n",
    "grades2 = s2.value_counts()\n",
    "grades3 = s3.value_counts()\n",
    "grades3"
   ]
  },
  {
   "cell_type": "markdown",
   "metadata": {},
   "source": [
    "### Compare the indexes of the three `grades` variables \n",
    "You should see that the index for `grades3` uses lowercase letters, while the other two use uppercase letters."
   ]
  },
  {
   "cell_type": "code",
   "execution_count": 5,
   "metadata": {},
   "outputs": [
    {
     "data": {
      "text/plain": [
       "(Index(['B', 'C', 'A', 'D', 'F'], dtype='object'),\n",
       " Index(['A', 'B', 'C', 'D'], dtype='object'),\n",
       " Index(['b', 'c', 'd', 'a', 'f'], dtype='object'))"
      ]
     },
     "execution_count": 5,
     "metadata": {},
     "output_type": "execute_result"
    }
   ],
   "source": [
    "grades1.index, grades2.index, grades3.index"
   ]
  },
  {
   "cell_type": "markdown",
   "metadata": {},
   "source": [
    "### Reindex `grades3` to use uppercase letters\n",
    "This is a little tricky because the index for `grades3` is not in alphabetical order. You will need to sort it on its index first."
   ]
  },
  {
   "cell_type": "code",
   "execution_count": 8,
   "metadata": {},
   "outputs": [
    {
     "data": {
      "text/plain": [
       "(Index(['A', 'B', 'C', 'D', 'F'], dtype='object'), A    23\n",
       " B    90\n",
       " C    52\n",
       " D    33\n",
       " F     2\n",
       " dtype: int64)"
      ]
     },
     "execution_count": 8,
     "metadata": {},
     "output_type": "execute_result"
    }
   ],
   "source": [
    "grades3 = grades3.sort_index()\n",
    "grades3.index = ['A','B','C','D','F']\n",
    "grades3.index"
   ]
  },
  {
   "cell_type": "markdown",
   "metadata": {},
   "source": [
    "### Add the three `grades` Series together\n",
    "Don't forget to set the fill value to 0."
   ]
  },
  {
   "cell_type": "code",
   "execution_count": 9,
   "metadata": {},
   "outputs": [
    {
     "data": {
      "text/plain": [
       "A     67.0\n",
       "B    140.0\n",
       "C     92.0\n",
       "D     48.0\n",
       "F      3.0\n",
       "dtype: float64"
      ]
     },
     "execution_count": 9,
     "metadata": {},
     "output_type": "execute_result"
    }
   ],
   "source": [
    "grades_all = grades1.add(grades2, fill_value=0).add(grades3, fill_value=0)\n",
    "grades_all"
   ]
  },
  {
   "cell_type": "markdown",
   "metadata": {},
   "source": [
    "### From `grades_all`, create a `grades_breakout` Series that holdes the share of each grade.\n",
    "`grades_breakout.sum()` should equal 1"
   ]
  },
  {
   "cell_type": "code",
   "execution_count": 12,
   "metadata": {},
   "outputs": [
    {
     "data": {
      "text/plain": [
       "(A    0.191429\n",
       " B    0.400000\n",
       " C    0.262857\n",
       " D    0.137143\n",
       " F    0.008571\n",
       " dtype: float64, 1.0)"
      ]
     },
     "execution_count": 12,
     "metadata": {},
     "output_type": "execute_result"
    }
   ],
   "source": [
    "grades_breakout = grades_all / grades_all.sum()\n",
    "grades_breakout, grades_breakout.sum()\n"
   ]
  },
  {
   "cell_type": "markdown",
   "metadata": {},
   "source": [
    "## A different approach: First, change case of values of `s3`."
   ]
  },
  {
   "cell_type": "code",
   "execution_count": 16,
   "metadata": {},
   "outputs": [
    {
     "data": {
      "text/plain": [
       "0      A\n",
       "1      D\n",
       "2      B\n",
       "3      B\n",
       "4      B\n",
       "      ..\n",
       "195    C\n",
       "196    C\n",
       "197    C\n",
       "198    C\n",
       "199    A\n",
       "Length: 200, dtype: object"
      ]
     },
     "execution_count": 16,
     "metadata": {},
     "output_type": "execute_result"
    }
   ],
   "source": [
    "s3 = s3.str.upper()\n",
    "s3"
   ]
  },
  {
   "cell_type": "markdown",
   "metadata": {},
   "source": [
    "### Then combine the Series of grades."
   ]
  },
  {
   "cell_type": "code",
   "execution_count": 17,
   "metadata": {},
   "outputs": [
    {
     "data": {
      "text/plain": [
       "0      B\n",
       "1      C\n",
       "2      A\n",
       "3      B\n",
       "4      A\n",
       "      ..\n",
       "195    C\n",
       "196    C\n",
       "197    C\n",
       "198    C\n",
       "199    A\n",
       "Length: 350, dtype: object"
      ]
     },
     "execution_count": 17,
     "metadata": {},
     "output_type": "execute_result"
    }
   ],
   "source": [
    "s_all = pd.concat([s1,s2,s3])\n",
    "s_all"
   ]
  },
  {
   "cell_type": "markdown",
   "metadata": {},
   "source": [
    "### Then get the value counts of the combined series and get `grades_breakout`."
   ]
  },
  {
   "cell_type": "code",
   "execution_count": 18,
   "metadata": {},
   "outputs": [
    {
     "data": {
      "text/plain": [
       "(A    0.191429\n",
       " B    0.400000\n",
       " C    0.262857\n",
       " D    0.137143\n",
       " F    0.008571\n",
       " dtype: float64, 0.9999999999999999)"
      ]
     },
     "execution_count": 18,
     "metadata": {},
     "output_type": "execute_result"
    }
   ],
   "source": [
    "grades_all = s_all.value_counts()\n",
    "grades_breakout = grades_all / grades_all.sum()\n",
    "grades_breakout.sort_index(), grades_breakout.sum()"
   ]
  }
 ],
 "metadata": {
  "kernelspec": {
   "display_name": "Python 3",
   "language": "python",
   "name": "python3"
  },
  "language_info": {
   "codemirror_mode": {
    "name": "ipython",
    "version": 3
   },
   "file_extension": ".py",
   "mimetype": "text/x-python",
   "name": "python",
   "nbconvert_exporter": "python",
   "pygments_lexer": "ipython3",
   "version": "3.6.5"
  }
 },
 "nbformat": 4,
 "nbformat_minor": 1
}
