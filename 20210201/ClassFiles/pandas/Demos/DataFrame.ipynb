{
 "cells": [
  {
   "cell_type": "markdown",
   "metadata": {},
   "source": [
    "# pandas DataFrame"
   ]
  },
  {
   "cell_type": "markdown",
   "metadata": {},
   "source": [
    "## Setup"
   ]
  },
  {
   "cell_type": "code",
   "execution_count": 1,
   "metadata": {},
   "outputs": [],
   "source": [
    "import numpy as np\n",
    "import pandas as pd\n",
    "\n",
    "pd.set_option('display.max_columns', 10)\n",
    "pd.set_option('display.max_rows', 10)"
   ]
  },
  {
   "cell_type": "markdown",
   "metadata": {},
   "source": [
    "### Create Simple DataFrame"
   ]
  },
  {
   "cell_type": "code",
   "execution_count": 3,
   "metadata": {
    "scrolled": false
   },
   "outputs": [
    {
     "data": {
      "text/html": [
       "<div>\n",
       "<style scoped>\n",
       "    .dataframe tbody tr th:only-of-type {\n",
       "        vertical-align: middle;\n",
       "    }\n",
       "\n",
       "    .dataframe tbody tr th {\n",
       "        vertical-align: top;\n",
       "    }\n",
       "\n",
       "    .dataframe thead th {\n",
       "        text-align: right;\n",
       "    }\n",
       "</style>\n",
       "<table border=\"1\" class=\"dataframe\">\n",
       "  <thead>\n",
       "    <tr style=\"text-align: right;\">\n",
       "      <th></th>\n",
       "      <th>0</th>\n",
       "      <th>1</th>\n",
       "      <th>2</th>\n",
       "    </tr>\n",
       "  </thead>\n",
       "  <tbody>\n",
       "    <tr>\n",
       "      <th>0</th>\n",
       "      <td>1</td>\n",
       "      <td>2</td>\n",
       "      <td>3</td>\n",
       "    </tr>\n",
       "    <tr>\n",
       "      <th>1</th>\n",
       "      <td>4</td>\n",
       "      <td>5</td>\n",
       "      <td>6</td>\n",
       "    </tr>\n",
       "    <tr>\n",
       "      <th>2</th>\n",
       "      <td>7</td>\n",
       "      <td>8</td>\n",
       "      <td>9</td>\n",
       "    </tr>\n",
       "  </tbody>\n",
       "</table>\n",
       "</div>"
      ],
      "text/plain": [
       "   0  1  2\n",
       "0  1  2  3\n",
       "1  4  5  6\n",
       "2  7  8  9"
      ]
     },
     "execution_count": 3,
     "metadata": {},
     "output_type": "execute_result"
    }
   ],
   "source": [
    "mda = np.array([\n",
    "        [1, 2, 3],\n",
    "        [4, 5, 6],\n",
    "        [7, 8, 9]\n",
    "    ])\n",
    "df1 = pd.DataFrame(mda)\n",
    "df1"
   ]
  },
  {
   "cell_type": "code",
   "execution_count": 4,
   "metadata": {
    "scrolled": true
   },
   "outputs": [
    {
     "data": {
      "text/html": [
       "<div>\n",
       "<style scoped>\n",
       "    .dataframe tbody tr th:only-of-type {\n",
       "        vertical-align: middle;\n",
       "    }\n",
       "\n",
       "    .dataframe tbody tr th {\n",
       "        vertical-align: top;\n",
       "    }\n",
       "\n",
       "    .dataframe thead th {\n",
       "        text-align: right;\n",
       "    }\n",
       "</style>\n",
       "<table border=\"1\" class=\"dataframe\">\n",
       "  <thead>\n",
       "    <tr style=\"text-align: right;\">\n",
       "      <th></th>\n",
       "      <th>A</th>\n",
       "      <th>B</th>\n",
       "      <th>C</th>\n",
       "    </tr>\n",
       "  </thead>\n",
       "  <tbody>\n",
       "    <tr>\n",
       "      <th>1</th>\n",
       "      <td>1</td>\n",
       "      <td>2</td>\n",
       "      <td>3</td>\n",
       "    </tr>\n",
       "    <tr>\n",
       "      <th>2</th>\n",
       "      <td>4</td>\n",
       "      <td>5</td>\n",
       "      <td>6</td>\n",
       "    </tr>\n",
       "    <tr>\n",
       "      <th>3</th>\n",
       "      <td>7</td>\n",
       "      <td>8</td>\n",
       "      <td>9</td>\n",
       "    </tr>\n",
       "  </tbody>\n",
       "</table>\n",
       "</div>"
      ],
      "text/plain": [
       "   A  B  C\n",
       "1  1  2  3\n",
       "2  4  5  6\n",
       "3  7  8  9"
      ]
     },
     "execution_count": 4,
     "metadata": {},
     "output_type": "execute_result"
    }
   ],
   "source": [
    "df1.columns=['A','B','C']\n",
    "df1.index=np.arange(1,len(df1)+1)\n",
    "df1"
   ]
  },
  {
   "cell_type": "code",
   "execution_count": 5,
   "metadata": {},
   "outputs": [
    {
     "data": {
      "text/html": [
       "<div>\n",
       "<style scoped>\n",
       "    .dataframe tbody tr th:only-of-type {\n",
       "        vertical-align: middle;\n",
       "    }\n",
       "\n",
       "    .dataframe tbody tr th {\n",
       "        vertical-align: top;\n",
       "    }\n",
       "\n",
       "    .dataframe thead th {\n",
       "        text-align: right;\n",
       "    }\n",
       "</style>\n",
       "<table border=\"1\" class=\"dataframe\">\n",
       "  <thead>\n",
       "    <tr style=\"text-align: right;\">\n",
       "      <th></th>\n",
       "      <th>A</th>\n",
       "      <th>B</th>\n",
       "      <th>C</th>\n",
       "    </tr>\n",
       "  </thead>\n",
       "  <tbody>\n",
       "    <tr>\n",
       "      <th>1</th>\n",
       "      <td>1</td>\n",
       "      <td>2</td>\n",
       "      <td>3</td>\n",
       "    </tr>\n",
       "    <tr>\n",
       "      <th>2</th>\n",
       "      <td>4</td>\n",
       "      <td>5</td>\n",
       "      <td>6</td>\n",
       "    </tr>\n",
       "    <tr>\n",
       "      <th>3</th>\n",
       "      <td>7</td>\n",
       "      <td>8</td>\n",
       "      <td>9</td>\n",
       "    </tr>\n",
       "  </tbody>\n",
       "</table>\n",
       "</div>"
      ],
      "text/plain": [
       "   A  B  C\n",
       "1  1  2  3\n",
       "2  4  5  6\n",
       "3  7  8  9"
      ]
     },
     "execution_count": 5,
     "metadata": {},
     "output_type": "execute_result"
    }
   ],
   "source": [
    "df2 = pd.DataFrame( mda, columns=['A','B','C'], index=np.arange(1,len(mda)+1) )\n",
    "df2"
   ]
  },
  {
   "cell_type": "markdown",
   "metadata": {},
   "source": [
    "### Create DataFrame using Series as Rows"
   ]
  },
  {
   "cell_type": "code",
   "execution_count": 8,
   "metadata": {},
   "outputs": [
    {
     "data": {
      "text/html": [
       "<div>\n",
       "<style scoped>\n",
       "    .dataframe tbody tr th:only-of-type {\n",
       "        vertical-align: middle;\n",
       "    }\n",
       "\n",
       "    .dataframe tbody tr th {\n",
       "        vertical-align: top;\n",
       "    }\n",
       "\n",
       "    .dataframe thead th {\n",
       "        text-align: right;\n",
       "    }\n",
       "</style>\n",
       "<table border=\"1\" class=\"dataframe\">\n",
       "  <thead>\n",
       "    <tr style=\"text-align: right;\">\n",
       "      <th></th>\n",
       "      <th>A</th>\n",
       "      <th>B</th>\n",
       "      <th>C</th>\n",
       "      <th>D</th>\n",
       "    </tr>\n",
       "  </thead>\n",
       "  <tbody>\n",
       "    <tr>\n",
       "      <th>0</th>\n",
       "      <td>Adam</td>\n",
       "      <td>Bonnie</td>\n",
       "      <td>Carlos</td>\n",
       "      <td>David</td>\n",
       "    </tr>\n",
       "    <tr>\n",
       "      <th>1</th>\n",
       "      <td>Africa</td>\n",
       "      <td>Berlin</td>\n",
       "      <td>Canada</td>\n",
       "      <td>NaN</td>\n",
       "    </tr>\n",
       "    <tr>\n",
       "      <th>2</th>\n",
       "      <td>Apple</td>\n",
       "      <td>Baseball bat</td>\n",
       "      <td>Car</td>\n",
       "      <td>NaN</td>\n",
       "    </tr>\n",
       "  </tbody>\n",
       "</table>\n",
       "</div>"
      ],
      "text/plain": [
       "        A             B       C      D\n",
       "0    Adam        Bonnie  Carlos  David\n",
       "1  Africa        Berlin  Canada    NaN\n",
       "2   Apple  Baseball bat     Car    NaN"
      ]
     },
     "execution_count": 8,
     "metadata": {},
     "output_type": "execute_result"
    }
   ],
   "source": [
    "people = pd.Series(['Adam','Bonnie','Carlos','David'], index=['A','B','C','D'])\n",
    "places = pd.Series(['Africa','Berlin','Canada'], index=['A','B','C'])\n",
    "things = pd.Series(['Apple','Baseball bat','Car'], index=['A','B','C'])\n",
    "\n",
    "df3 = pd.DataFrame([people, places, things])\n",
    "\n",
    "df3"
   ]
  },
  {
   "cell_type": "code",
   "execution_count": 9,
   "metadata": {},
   "outputs": [
    {
     "data": {
      "text/html": [
       "<div>\n",
       "<style scoped>\n",
       "    .dataframe tbody tr th:only-of-type {\n",
       "        vertical-align: middle;\n",
       "    }\n",
       "\n",
       "    .dataframe tbody tr th {\n",
       "        vertical-align: top;\n",
       "    }\n",
       "\n",
       "    .dataframe thead th {\n",
       "        text-align: right;\n",
       "    }\n",
       "</style>\n",
       "<table border=\"1\" class=\"dataframe\">\n",
       "  <thead>\n",
       "    <tr style=\"text-align: right;\">\n",
       "      <th></th>\n",
       "      <th>A</th>\n",
       "      <th>B</th>\n",
       "      <th>D</th>\n",
       "    </tr>\n",
       "  </thead>\n",
       "  <tbody>\n",
       "    <tr>\n",
       "      <th>People</th>\n",
       "      <td>Adam</td>\n",
       "      <td>Bonnie</td>\n",
       "      <td>David</td>\n",
       "    </tr>\n",
       "    <tr>\n",
       "      <th>Place</th>\n",
       "      <td>Africa</td>\n",
       "      <td>Berlin</td>\n",
       "      <td>NaN</td>\n",
       "    </tr>\n",
       "    <tr>\n",
       "      <th>Thing</th>\n",
       "      <td>Apple</td>\n",
       "      <td>Baseball bat</td>\n",
       "      <td>NaN</td>\n",
       "    </tr>\n",
       "  </tbody>\n",
       "</table>\n",
       "</div>"
      ],
      "text/plain": [
       "             A             B      D\n",
       "People    Adam        Bonnie  David\n",
       "Place   Africa        Berlin    NaN\n",
       "Thing    Apple  Baseball bat    NaN"
      ]
     },
     "execution_count": 9,
     "metadata": {},
     "output_type": "execute_result"
    }
   ],
   "source": [
    "df4 = pd.DataFrame([people, places, things],\n",
    "                  index = ['People','Place','Thing'],\n",
    "                  columns = ['A','B','D'])\n",
    "df4"
   ]
  },
  {
   "cell_type": "markdown",
   "metadata": {},
   "source": [
    "### Create DataFrame using concat()"
   ]
  },
  {
   "cell_type": "code",
   "execution_count": 10,
   "metadata": {
    "scrolled": false
   },
   "outputs": [
    {
     "data": {
      "text/html": [
       "<div>\n",
       "<style scoped>\n",
       "    .dataframe tbody tr th:only-of-type {\n",
       "        vertical-align: middle;\n",
       "    }\n",
       "\n",
       "    .dataframe tbody tr th {\n",
       "        vertical-align: top;\n",
       "    }\n",
       "\n",
       "    .dataframe thead th {\n",
       "        text-align: right;\n",
       "    }\n",
       "</style>\n",
       "<table border=\"1\" class=\"dataframe\">\n",
       "  <thead>\n",
       "    <tr style=\"text-align: right;\">\n",
       "      <th></th>\n",
       "      <th>grades1</th>\n",
       "      <th>grades2</th>\n",
       "      <th>grades3</th>\n",
       "    </tr>\n",
       "  </thead>\n",
       "  <tbody>\n",
       "    <tr>\n",
       "      <th>0</th>\n",
       "      <td>B</td>\n",
       "      <td>B</td>\n",
       "      <td>a</td>\n",
       "    </tr>\n",
       "    <tr>\n",
       "      <th>1</th>\n",
       "      <td>C</td>\n",
       "      <td>B</td>\n",
       "      <td>d</td>\n",
       "    </tr>\n",
       "    <tr>\n",
       "      <th>2</th>\n",
       "      <td>A</td>\n",
       "      <td>C</td>\n",
       "      <td>b</td>\n",
       "    </tr>\n",
       "    <tr>\n",
       "      <th>3</th>\n",
       "      <td>B</td>\n",
       "      <td>B</td>\n",
       "      <td>b</td>\n",
       "    </tr>\n",
       "    <tr>\n",
       "      <th>4</th>\n",
       "      <td>A</td>\n",
       "      <td>D</td>\n",
       "      <td>b</td>\n",
       "    </tr>\n",
       "    <tr>\n",
       "      <th>...</th>\n",
       "      <td>...</td>\n",
       "      <td>...</td>\n",
       "      <td>...</td>\n",
       "    </tr>\n",
       "    <tr>\n",
       "      <th>195</th>\n",
       "      <td>NaN</td>\n",
       "      <td>NaN</td>\n",
       "      <td>c</td>\n",
       "    </tr>\n",
       "    <tr>\n",
       "      <th>196</th>\n",
       "      <td>NaN</td>\n",
       "      <td>NaN</td>\n",
       "      <td>c</td>\n",
       "    </tr>\n",
       "    <tr>\n",
       "      <th>197</th>\n",
       "      <td>NaN</td>\n",
       "      <td>NaN</td>\n",
       "      <td>c</td>\n",
       "    </tr>\n",
       "    <tr>\n",
       "      <th>198</th>\n",
       "      <td>NaN</td>\n",
       "      <td>NaN</td>\n",
       "      <td>c</td>\n",
       "    </tr>\n",
       "    <tr>\n",
       "      <th>199</th>\n",
       "      <td>NaN</td>\n",
       "      <td>NaN</td>\n",
       "      <td>a</td>\n",
       "    </tr>\n",
       "  </tbody>\n",
       "</table>\n",
       "<p>200 rows × 3 columns</p>\n",
       "</div>"
      ],
      "text/plain": [
       "    grades1 grades2 grades3\n",
       "0         B       B       a\n",
       "1         C       B       d\n",
       "2         A       C       b\n",
       "3         B       B       b\n",
       "4         A       D       b\n",
       "..      ...     ...     ...\n",
       "195     NaN     NaN       c\n",
       "196     NaN     NaN       c\n",
       "197     NaN     NaN       c\n",
       "198     NaN     NaN       c\n",
       "199     NaN     NaN       a\n",
       "\n",
       "[200 rows x 3 columns]"
      ]
     },
     "execution_count": 10,
     "metadata": {},
     "output_type": "execute_result"
    }
   ],
   "source": [
    "np.random.seed(1)\n",
    "ar1 = np.random.choice(['A','B','C','D','F'], 100, p=[.2,.4,.3,.08,.02])\n",
    "ar2 = np.random.choice(['A','B','C','D','F'], 50, p=[.3,.4,.2,.1,0])\n",
    "ar3 = np.random.choice(['a','b','c','d','f'], 200, p=[.15,.45,.25,.13,.02])\n",
    "s1 = pd.Series(ar1)\n",
    "s2 = pd.Series(ar2)\n",
    "s3 = pd.Series(ar3)\n",
    "df5 = pd.concat([s1,s2,s3], axis=1)\n",
    "df5.columns=['grades1','grades2','grades3']\n",
    "df5"
   ]
  },
  {
   "cell_type": "markdown",
   "metadata": {},
   "source": [
    "### Create DataFrame from CSV "
   ]
  },
  {
   "cell_type": "code",
   "execution_count": 11,
   "metadata": {
    "scrolled": false
   },
   "outputs": [
    {
     "data": {
      "text/html": [
       "<div>\n",
       "<style scoped>\n",
       "    .dataframe tbody tr th:only-of-type {\n",
       "        vertical-align: middle;\n",
       "    }\n",
       "\n",
       "    .dataframe tbody tr th {\n",
       "        vertical-align: top;\n",
       "    }\n",
       "\n",
       "    .dataframe thead th {\n",
       "        text-align: right;\n",
       "    }\n",
       "</style>\n",
       "<table border=\"1\" class=\"dataframe\">\n",
       "  <thead>\n",
       "    <tr style=\"text-align: right;\">\n",
       "      <th></th>\n",
       "      <th>SEX</th>\n",
       "      <th>AGE</th>\n",
       "      <th>POPESTIMATE2013</th>\n",
       "      <th>POPESTIMATE2014</th>\n",
       "    </tr>\n",
       "  </thead>\n",
       "  <tbody>\n",
       "    <tr>\n",
       "      <th>0</th>\n",
       "      <td>A</td>\n",
       "      <td>0</td>\n",
       "      <td>3,945,610</td>\n",
       "      <td>3,948,350</td>\n",
       "    </tr>\n",
       "    <tr>\n",
       "      <th>1</th>\n",
       "      <td>A</td>\n",
       "      <td>1</td>\n",
       "      <td>3,943,077</td>\n",
       "      <td>3,962,123</td>\n",
       "    </tr>\n",
       "    <tr>\n",
       "      <th>2</th>\n",
       "      <td>A</td>\n",
       "      <td>2</td>\n",
       "      <td>3,992,690</td>\n",
       "      <td>3,957,772</td>\n",
       "    </tr>\n",
       "    <tr>\n",
       "      <th>3</th>\n",
       "      <td>A</td>\n",
       "      <td>3</td>\n",
       "      <td>3,992,425</td>\n",
       "      <td>4,005,190</td>\n",
       "    </tr>\n",
       "    <tr>\n",
       "      <th>4</th>\n",
       "      <td>A</td>\n",
       "      <td>4</td>\n",
       "      <td>3,994,047</td>\n",
       "      <td>4,003,448</td>\n",
       "    </tr>\n",
       "    <tr>\n",
       "      <th>...</th>\n",
       "      <td>...</td>\n",
       "      <td>...</td>\n",
       "      <td>...</td>\n",
       "      <td>...</td>\n",
       "    </tr>\n",
       "    <tr>\n",
       "      <th>298</th>\n",
       "      <td>F</td>\n",
       "      <td>96</td>\n",
       "      <td>82,067</td>\n",
       "      <td>89,949</td>\n",
       "    </tr>\n",
       "    <tr>\n",
       "      <th>299</th>\n",
       "      <td>F</td>\n",
       "      <td>97</td>\n",
       "      <td>61,693</td>\n",
       "      <td>63,252</td>\n",
       "    </tr>\n",
       "    <tr>\n",
       "      <th>300</th>\n",
       "      <td>F</td>\n",
       "      <td>98</td>\n",
       "      <td>44,703</td>\n",
       "      <td>46,536</td>\n",
       "    </tr>\n",
       "    <tr>\n",
       "      <th>301</th>\n",
       "      <td>F</td>\n",
       "      <td>99</td>\n",
       "      <td>31,378</td>\n",
       "      <td>32,791</td>\n",
       "    </tr>\n",
       "    <tr>\n",
       "      <th>302</th>\n",
       "      <td>F</td>\n",
       "      <td>100</td>\n",
       "      <td>54,379</td>\n",
       "      <td>58,468</td>\n",
       "    </tr>\n",
       "  </tbody>\n",
       "</table>\n",
       "<p>303 rows × 4 columns</p>\n",
       "</div>"
      ],
      "text/plain": [
       "    SEX  AGE POPESTIMATE2013 POPESTIMATE2014\n",
       "0     A    0       3,945,610       3,948,350\n",
       "1     A    1       3,943,077       3,962,123\n",
       "2     A    2       3,992,690       3,957,772\n",
       "3     A    3       3,992,425       4,005,190\n",
       "4     A    4       3,994,047       4,003,448\n",
       "..   ..  ...             ...             ...\n",
       "298   F   96          82,067          89,949\n",
       "299   F   97          61,693          63,252\n",
       "300   F   98          44,703          46,536\n",
       "301   F   99          31,378          32,791\n",
       "302   F  100          54,379          58,468\n",
       "\n",
       "[303 rows x 4 columns]"
      ]
     },
     "execution_count": 11,
     "metadata": {},
     "output_type": "execute_result"
    }
   ],
   "source": [
    "csv ='../csvs/us-population-2010-2014.csv'\n",
    "pops = pd.read_csv(csv, usecols=[0,1,5,6])\n",
    "pops"
   ]
  },
  {
   "cell_type": "markdown",
   "metadata": {},
   "source": [
    "### Column Names and Row index"
   ]
  },
  {
   "cell_type": "code",
   "execution_count": 12,
   "metadata": {
    "scrolled": false
   },
   "outputs": [
    {
     "data": {
      "text/plain": [
       "Index(['SEX', 'AGE', 'POPESTIMATE2013', 'POPESTIMATE2014'], dtype='object')"
      ]
     },
     "execution_count": 12,
     "metadata": {},
     "output_type": "execute_result"
    }
   ],
   "source": [
    "pops.columns"
   ]
  },
  {
   "cell_type": "code",
   "execution_count": 13,
   "metadata": {
    "scrolled": true
   },
   "outputs": [
    {
     "data": {
      "text/plain": [
       "RangeIndex(start=0, stop=303, step=1)"
      ]
     },
     "execution_count": 13,
     "metadata": {},
     "output_type": "execute_result"
    }
   ],
   "source": [
    "pops.index"
   ]
  },
  {
   "cell_type": "markdown",
   "metadata": {},
   "source": [
    "### Shape"
   ]
  },
  {
   "cell_type": "code",
   "execution_count": 14,
   "metadata": {},
   "outputs": [
    {
     "data": {
      "text/plain": [
       "(303, 4)"
      ]
     },
     "execution_count": 14,
     "metadata": {},
     "output_type": "execute_result"
    }
   ],
   "source": [
    "pops.shape"
   ]
  },
  {
   "cell_type": "markdown",
   "metadata": {},
   "source": [
    "### Number of Columns and Rows"
   ]
  },
  {
   "cell_type": "code",
   "execution_count": 15,
   "metadata": {},
   "outputs": [
    {
     "data": {
      "text/plain": [
       "(303, 4)"
      ]
     },
     "execution_count": 15,
     "metadata": {},
     "output_type": "execute_result"
    }
   ],
   "source": [
    "num_rows = len(pops)\n",
    "num_cols = len(pops.columns)\n",
    "num_rows, num_cols"
   ]
  },
  {
   "cell_type": "markdown",
   "metadata": {},
   "source": [
    "### head() and tail()"
   ]
  },
  {
   "cell_type": "code",
   "execution_count": 16,
   "metadata": {},
   "outputs": [
    {
     "data": {
      "text/html": [
       "<div>\n",
       "<style scoped>\n",
       "    .dataframe tbody tr th:only-of-type {\n",
       "        vertical-align: middle;\n",
       "    }\n",
       "\n",
       "    .dataframe tbody tr th {\n",
       "        vertical-align: top;\n",
       "    }\n",
       "\n",
       "    .dataframe thead th {\n",
       "        text-align: right;\n",
       "    }\n",
       "</style>\n",
       "<table border=\"1\" class=\"dataframe\">\n",
       "  <thead>\n",
       "    <tr style=\"text-align: right;\">\n",
       "      <th></th>\n",
       "      <th>SEX</th>\n",
       "      <th>AGE</th>\n",
       "      <th>POPESTIMATE2013</th>\n",
       "      <th>POPESTIMATE2014</th>\n",
       "    </tr>\n",
       "  </thead>\n",
       "  <tbody>\n",
       "    <tr>\n",
       "      <th>0</th>\n",
       "      <td>A</td>\n",
       "      <td>0</td>\n",
       "      <td>3,945,610</td>\n",
       "      <td>3,948,350</td>\n",
       "    </tr>\n",
       "    <tr>\n",
       "      <th>1</th>\n",
       "      <td>A</td>\n",
       "      <td>1</td>\n",
       "      <td>3,943,077</td>\n",
       "      <td>3,962,123</td>\n",
       "    </tr>\n",
       "    <tr>\n",
       "      <th>2</th>\n",
       "      <td>A</td>\n",
       "      <td>2</td>\n",
       "      <td>3,992,690</td>\n",
       "      <td>3,957,772</td>\n",
       "    </tr>\n",
       "    <tr>\n",
       "      <th>3</th>\n",
       "      <td>A</td>\n",
       "      <td>3</td>\n",
       "      <td>3,992,425</td>\n",
       "      <td>4,005,190</td>\n",
       "    </tr>\n",
       "    <tr>\n",
       "      <th>4</th>\n",
       "      <td>A</td>\n",
       "      <td>4</td>\n",
       "      <td>3,994,047</td>\n",
       "      <td>4,003,448</td>\n",
       "    </tr>\n",
       "  </tbody>\n",
       "</table>\n",
       "</div>"
      ],
      "text/plain": [
       "  SEX  AGE POPESTIMATE2013 POPESTIMATE2014\n",
       "0   A    0       3,945,610       3,948,350\n",
       "1   A    1       3,943,077       3,962,123\n",
       "2   A    2       3,992,690       3,957,772\n",
       "3   A    3       3,992,425       4,005,190\n",
       "4   A    4       3,994,047       4,003,448"
      ]
     },
     "execution_count": 16,
     "metadata": {},
     "output_type": "execute_result"
    }
   ],
   "source": [
    "pops.head()"
   ]
  },
  {
   "cell_type": "code",
   "execution_count": 17,
   "metadata": {
    "scrolled": true
   },
   "outputs": [
    {
     "data": {
      "text/html": [
       "<div>\n",
       "<style scoped>\n",
       "    .dataframe tbody tr th:only-of-type {\n",
       "        vertical-align: middle;\n",
       "    }\n",
       "\n",
       "    .dataframe tbody tr th {\n",
       "        vertical-align: top;\n",
       "    }\n",
       "\n",
       "    .dataframe thead th {\n",
       "        text-align: right;\n",
       "    }\n",
       "</style>\n",
       "<table border=\"1\" class=\"dataframe\">\n",
       "  <thead>\n",
       "    <tr style=\"text-align: right;\">\n",
       "      <th></th>\n",
       "      <th>SEX</th>\n",
       "      <th>AGE</th>\n",
       "      <th>POPESTIMATE2013</th>\n",
       "      <th>POPESTIMATE2014</th>\n",
       "    </tr>\n",
       "  </thead>\n",
       "  <tbody>\n",
       "    <tr>\n",
       "      <th>298</th>\n",
       "      <td>F</td>\n",
       "      <td>96</td>\n",
       "      <td>82,067</td>\n",
       "      <td>89,949</td>\n",
       "    </tr>\n",
       "    <tr>\n",
       "      <th>299</th>\n",
       "      <td>F</td>\n",
       "      <td>97</td>\n",
       "      <td>61,693</td>\n",
       "      <td>63,252</td>\n",
       "    </tr>\n",
       "    <tr>\n",
       "      <th>300</th>\n",
       "      <td>F</td>\n",
       "      <td>98</td>\n",
       "      <td>44,703</td>\n",
       "      <td>46,536</td>\n",
       "    </tr>\n",
       "    <tr>\n",
       "      <th>301</th>\n",
       "      <td>F</td>\n",
       "      <td>99</td>\n",
       "      <td>31,378</td>\n",
       "      <td>32,791</td>\n",
       "    </tr>\n",
       "    <tr>\n",
       "      <th>302</th>\n",
       "      <td>F</td>\n",
       "      <td>100</td>\n",
       "      <td>54,379</td>\n",
       "      <td>58,468</td>\n",
       "    </tr>\n",
       "  </tbody>\n",
       "</table>\n",
       "</div>"
      ],
      "text/plain": [
       "    SEX  AGE POPESTIMATE2013 POPESTIMATE2014\n",
       "298   F   96          82,067          89,949\n",
       "299   F   97          61,693          63,252\n",
       "300   F   98          44,703          46,536\n",
       "301   F   99          31,378          32,791\n",
       "302   F  100          54,379          58,468"
      ]
     },
     "execution_count": 17,
     "metadata": {},
     "output_type": "execute_result"
    }
   ],
   "source": [
    "pops.tail()"
   ]
  },
  {
   "cell_type": "code",
   "execution_count": 24,
   "metadata": {},
   "outputs": [
    {
     "data": {
      "text/html": [
       "<div>\n",
       "<style scoped>\n",
       "    .dataframe tbody tr th:only-of-type {\n",
       "        vertical-align: middle;\n",
       "    }\n",
       "\n",
       "    .dataframe tbody tr th {\n",
       "        vertical-align: top;\n",
       "    }\n",
       "\n",
       "    .dataframe thead th {\n",
       "        text-align: right;\n",
       "    }\n",
       "</style>\n",
       "<table border=\"1\" class=\"dataframe\">\n",
       "  <thead>\n",
       "    <tr style=\"text-align: right;\">\n",
       "      <th></th>\n",
       "      <th>SEX</th>\n",
       "      <th>AGE</th>\n",
       "      <th>POPESTIMATE2013</th>\n",
       "      <th>POPESTIMATE2014</th>\n",
       "    </tr>\n",
       "  </thead>\n",
       "  <tbody>\n",
       "    <tr>\n",
       "      <th>count</th>\n",
       "      <td>303</td>\n",
       "      <td>303.0</td>\n",
       "      <td>3.030000e+02</td>\n",
       "      <td>3.030000e+02</td>\n",
       "    </tr>\n",
       "    <tr>\n",
       "      <th>unique</th>\n",
       "      <td>3</td>\n",
       "      <td>NaN</td>\n",
       "      <td>NaN</td>\n",
       "      <td>NaN</td>\n",
       "    </tr>\n",
       "    <tr>\n",
       "      <th>top</th>\n",
       "      <td>A</td>\n",
       "      <td>NaN</td>\n",
       "      <td>NaN</td>\n",
       "      <td>NaN</td>\n",
       "    </tr>\n",
       "    <tr>\n",
       "      <th>freq</th>\n",
       "      <td>101</td>\n",
       "      <td>NaN</td>\n",
       "      <td>NaN</td>\n",
       "      <td>NaN</td>\n",
       "    </tr>\n",
       "    <tr>\n",
       "      <th>mean</th>\n",
       "      <td>NaN</td>\n",
       "      <td>50.0</td>\n",
       "      <td>2.089093e+06</td>\n",
       "      <td>2.104667e+06</td>\n",
       "    </tr>\n",
       "    <tr>\n",
       "      <th>...</th>\n",
       "      <td>...</td>\n",
       "      <td>...</td>\n",
       "      <td>...</td>\n",
       "      <td>...</td>\n",
       "    </tr>\n",
       "    <tr>\n",
       "      <th>min</th>\n",
       "      <td>NaN</td>\n",
       "      <td>0.0</td>\n",
       "      <td>8.228000e+03</td>\n",
       "      <td>9.037000e+03</td>\n",
       "    </tr>\n",
       "    <tr>\n",
       "      <th>25%</th>\n",
       "      <td>NaN</td>\n",
       "      <td>25.0</td>\n",
       "      <td>1.110254e+06</td>\n",
       "      <td>1.151440e+06</td>\n",
       "    </tr>\n",
       "    <tr>\n",
       "      <th>50%</th>\n",
       "      <td>NaN</td>\n",
       "      <td>50.0</td>\n",
       "      <td>2.047481e+06</td>\n",
       "      <td>2.053539e+06</td>\n",
       "    </tr>\n",
       "    <tr>\n",
       "      <th>75%</th>\n",
       "      <td>NaN</td>\n",
       "      <td>75.0</td>\n",
       "      <td>2.309066e+06</td>\n",
       "      <td>2.324046e+06</td>\n",
       "    </tr>\n",
       "    <tr>\n",
       "      <th>max</th>\n",
       "      <td>NaN</td>\n",
       "      <td>100.0</td>\n",
       "      <td>4.666392e+06</td>\n",
       "      <td>4.698584e+06</td>\n",
       "    </tr>\n",
       "  </tbody>\n",
       "</table>\n",
       "<p>11 rows × 4 columns</p>\n",
       "</div>"
      ],
      "text/plain": [
       "        SEX    AGE  POPESTIMATE2013  POPESTIMATE2014\n",
       "count   303  303.0     3.030000e+02     3.030000e+02\n",
       "unique    3    NaN              NaN              NaN\n",
       "top       A    NaN              NaN              NaN\n",
       "freq    101    NaN              NaN              NaN\n",
       "mean    NaN   50.0     2.089093e+06     2.104667e+06\n",
       "...     ...    ...              ...              ...\n",
       "min     NaN    0.0     8.228000e+03     9.037000e+03\n",
       "25%     NaN   25.0     1.110254e+06     1.151440e+06\n",
       "50%     NaN   50.0     2.047481e+06     2.053539e+06\n",
       "75%     NaN   75.0     2.309066e+06     2.324046e+06\n",
       "max     NaN  100.0     4.666392e+06     4.698584e+06\n",
       "\n",
       "[11 rows x 4 columns]"
      ]
     },
     "execution_count": 24,
     "metadata": {},
     "output_type": "execute_result"
    }
   ],
   "source": [
    "pops.describe(include='all')"
   ]
  },
  {
   "cell_type": "markdown",
   "metadata": {},
   "source": [
    "### Accessing Columns"
   ]
  },
  {
   "cell_type": "code",
   "execution_count": 20,
   "metadata": {
    "scrolled": true
   },
   "outputs": [
    {
     "data": {
      "text/plain": [
       "0      3,948,350\n",
       "1      3,962,123\n",
       "2      3,957,772\n",
       "3      4,005,190\n",
       "4      4,003,448\n",
       "         ...    \n",
       "298       89,949\n",
       "299       63,252\n",
       "300       46,536\n",
       "301       32,791\n",
       "302       58,468\n",
       "Name: POPESTIMATE2014, Length: 303, dtype: object"
      ]
     },
     "execution_count": 20,
     "metadata": {},
     "output_type": "execute_result"
    }
   ],
   "source": [
    "pops['POPESTIMATE2014']"
   ]
  },
  {
   "cell_type": "code",
   "execution_count": 21,
   "metadata": {
    "scrolled": false
   },
   "outputs": [
    {
     "data": {
      "text/plain": [
       "0      3,948,350\n",
       "1      3,962,123\n",
       "2      3,957,772\n",
       "3      4,005,190\n",
       "4      4,003,448\n",
       "         ...    \n",
       "298       89,949\n",
       "299       63,252\n",
       "300       46,536\n",
       "301       32,791\n",
       "302       58,468\n",
       "Name: POPESTIMATE2014, Length: 303, dtype: object"
      ]
     },
     "execution_count": 21,
     "metadata": {},
     "output_type": "execute_result"
    }
   ],
   "source": [
    "pops.POPESTIMATE2014"
   ]
  },
  {
   "cell_type": "code",
   "execution_count": 22,
   "metadata": {
    "scrolled": true
   },
   "outputs": [
    {
     "data": {
      "text/html": [
       "<div>\n",
       "<style scoped>\n",
       "    .dataframe tbody tr th:only-of-type {\n",
       "        vertical-align: middle;\n",
       "    }\n",
       "\n",
       "    .dataframe tbody tr th {\n",
       "        vertical-align: top;\n",
       "    }\n",
       "\n",
       "    .dataframe thead th {\n",
       "        text-align: right;\n",
       "    }\n",
       "</style>\n",
       "<table border=\"1\" class=\"dataframe\">\n",
       "  <thead>\n",
       "    <tr style=\"text-align: right;\">\n",
       "      <th></th>\n",
       "      <th>AGE</th>\n",
       "      <th>SEX</th>\n",
       "      <th>POPESTIMATE2014</th>\n",
       "    </tr>\n",
       "  </thead>\n",
       "  <tbody>\n",
       "    <tr>\n",
       "      <th>0</th>\n",
       "      <td>0</td>\n",
       "      <td>A</td>\n",
       "      <td>3,948,350</td>\n",
       "    </tr>\n",
       "    <tr>\n",
       "      <th>1</th>\n",
       "      <td>1</td>\n",
       "      <td>A</td>\n",
       "      <td>3,962,123</td>\n",
       "    </tr>\n",
       "    <tr>\n",
       "      <th>2</th>\n",
       "      <td>2</td>\n",
       "      <td>A</td>\n",
       "      <td>3,957,772</td>\n",
       "    </tr>\n",
       "    <tr>\n",
       "      <th>3</th>\n",
       "      <td>3</td>\n",
       "      <td>A</td>\n",
       "      <td>4,005,190</td>\n",
       "    </tr>\n",
       "    <tr>\n",
       "      <th>4</th>\n",
       "      <td>4</td>\n",
       "      <td>A</td>\n",
       "      <td>4,003,448</td>\n",
       "    </tr>\n",
       "    <tr>\n",
       "      <th>...</th>\n",
       "      <td>...</td>\n",
       "      <td>...</td>\n",
       "      <td>...</td>\n",
       "    </tr>\n",
       "    <tr>\n",
       "      <th>298</th>\n",
       "      <td>96</td>\n",
       "      <td>F</td>\n",
       "      <td>89,949</td>\n",
       "    </tr>\n",
       "    <tr>\n",
       "      <th>299</th>\n",
       "      <td>97</td>\n",
       "      <td>F</td>\n",
       "      <td>63,252</td>\n",
       "    </tr>\n",
       "    <tr>\n",
       "      <th>300</th>\n",
       "      <td>98</td>\n",
       "      <td>F</td>\n",
       "      <td>46,536</td>\n",
       "    </tr>\n",
       "    <tr>\n",
       "      <th>301</th>\n",
       "      <td>99</td>\n",
       "      <td>F</td>\n",
       "      <td>32,791</td>\n",
       "    </tr>\n",
       "    <tr>\n",
       "      <th>302</th>\n",
       "      <td>100</td>\n",
       "      <td>F</td>\n",
       "      <td>58,468</td>\n",
       "    </tr>\n",
       "  </tbody>\n",
       "</table>\n",
       "<p>303 rows × 3 columns</p>\n",
       "</div>"
      ],
      "text/plain": [
       "     AGE SEX POPESTIMATE2014\n",
       "0      0   A       3,948,350\n",
       "1      1   A       3,962,123\n",
       "2      2   A       3,957,772\n",
       "3      3   A       4,005,190\n",
       "4      4   A       4,003,448\n",
       "..   ...  ..             ...\n",
       "298   96   F          89,949\n",
       "299   97   F          63,252\n",
       "300   98   F          46,536\n",
       "301   99   F          32,791\n",
       "302  100   F          58,468\n",
       "\n",
       "[303 rows x 3 columns]"
      ]
     },
     "execution_count": 22,
     "metadata": {},
     "output_type": "execute_result"
    }
   ],
   "source": [
    "pops[['AGE','SEX','POPESTIMATE2014']]"
   ]
  },
  {
   "cell_type": "markdown",
   "metadata": {},
   "source": [
    "### Fix Numbers"
   ]
  },
  {
   "cell_type": "code",
   "execution_count": 23,
   "metadata": {},
   "outputs": [
    {
     "data": {
      "text/html": [
       "<div>\n",
       "<style scoped>\n",
       "    .dataframe tbody tr th:only-of-type {\n",
       "        vertical-align: middle;\n",
       "    }\n",
       "\n",
       "    .dataframe tbody tr th {\n",
       "        vertical-align: top;\n",
       "    }\n",
       "\n",
       "    .dataframe thead th {\n",
       "        text-align: right;\n",
       "    }\n",
       "</style>\n",
       "<table border=\"1\" class=\"dataframe\">\n",
       "  <thead>\n",
       "    <tr style=\"text-align: right;\">\n",
       "      <th></th>\n",
       "      <th>SEX</th>\n",
       "      <th>AGE</th>\n",
       "      <th>POPESTIMATE2013</th>\n",
       "      <th>POPESTIMATE2014</th>\n",
       "    </tr>\n",
       "  </thead>\n",
       "  <tbody>\n",
       "    <tr>\n",
       "      <th>0</th>\n",
       "      <td>A</td>\n",
       "      <td>0</td>\n",
       "      <td>3945610</td>\n",
       "      <td>3948350</td>\n",
       "    </tr>\n",
       "    <tr>\n",
       "      <th>1</th>\n",
       "      <td>A</td>\n",
       "      <td>1</td>\n",
       "      <td>3943077</td>\n",
       "      <td>3962123</td>\n",
       "    </tr>\n",
       "    <tr>\n",
       "      <th>2</th>\n",
       "      <td>A</td>\n",
       "      <td>2</td>\n",
       "      <td>3992690</td>\n",
       "      <td>3957772</td>\n",
       "    </tr>\n",
       "    <tr>\n",
       "      <th>3</th>\n",
       "      <td>A</td>\n",
       "      <td>3</td>\n",
       "      <td>3992425</td>\n",
       "      <td>4005190</td>\n",
       "    </tr>\n",
       "    <tr>\n",
       "      <th>4</th>\n",
       "      <td>A</td>\n",
       "      <td>4</td>\n",
       "      <td>3994047</td>\n",
       "      <td>4003448</td>\n",
       "    </tr>\n",
       "    <tr>\n",
       "      <th>...</th>\n",
       "      <td>...</td>\n",
       "      <td>...</td>\n",
       "      <td>...</td>\n",
       "      <td>...</td>\n",
       "    </tr>\n",
       "    <tr>\n",
       "      <th>298</th>\n",
       "      <td>F</td>\n",
       "      <td>96</td>\n",
       "      <td>82067</td>\n",
       "      <td>89949</td>\n",
       "    </tr>\n",
       "    <tr>\n",
       "      <th>299</th>\n",
       "      <td>F</td>\n",
       "      <td>97</td>\n",
       "      <td>61693</td>\n",
       "      <td>63252</td>\n",
       "    </tr>\n",
       "    <tr>\n",
       "      <th>300</th>\n",
       "      <td>F</td>\n",
       "      <td>98</td>\n",
       "      <td>44703</td>\n",
       "      <td>46536</td>\n",
       "    </tr>\n",
       "    <tr>\n",
       "      <th>301</th>\n",
       "      <td>F</td>\n",
       "      <td>99</td>\n",
       "      <td>31378</td>\n",
       "      <td>32791</td>\n",
       "    </tr>\n",
       "    <tr>\n",
       "      <th>302</th>\n",
       "      <td>F</td>\n",
       "      <td>100</td>\n",
       "      <td>54379</td>\n",
       "      <td>58468</td>\n",
       "    </tr>\n",
       "  </tbody>\n",
       "</table>\n",
       "<p>303 rows × 4 columns</p>\n",
       "</div>"
      ],
      "text/plain": [
       "    SEX  AGE  POPESTIMATE2013  POPESTIMATE2014\n",
       "0     A    0          3945610          3948350\n",
       "1     A    1          3943077          3962123\n",
       "2     A    2          3992690          3957772\n",
       "3     A    3          3992425          4005190\n",
       "4     A    4          3994047          4003448\n",
       "..   ..  ...              ...              ...\n",
       "298   F   96            82067            89949\n",
       "299   F   97            61693            63252\n",
       "300   F   98            44703            46536\n",
       "301   F   99            31378            32791\n",
       "302   F  100            54379            58468\n",
       "\n",
       "[303 rows x 4 columns]"
      ]
     },
     "execution_count": 23,
     "metadata": {},
     "output_type": "execute_result"
    }
   ],
   "source": [
    "def fix_num(num):\n",
    "    if isinstance(num,str):\n",
    "        return int(num.replace(',', ''))\n",
    "    else:\n",
    "        return num\n",
    "\n",
    "pops.POPESTIMATE2013 = pops.POPESTIMATE2013.apply(fix_num)\n",
    "pops.POPESTIMATE2014 = pops.POPESTIMATE2014.apply(fix_num)\n",
    "pops"
   ]
  },
  {
   "cell_type": "code",
   "execution_count": 25,
   "metadata": {},
   "outputs": [
    {
     "data": {
      "text/plain": [
       "637714112"
      ]
     },
     "execution_count": 25,
     "metadata": {},
     "output_type": "execute_result"
    }
   ],
   "source": [
    "pops.POPESTIMATE2014.sum()"
   ]
  },
  {
   "cell_type": "code",
   "execution_count": 28,
   "metadata": {},
   "outputs": [
    {
     "data": {
      "text/plain": [
       "'637,714,112'"
      ]
     },
     "execution_count": 28,
     "metadata": {},
     "output_type": "execute_result"
    }
   ],
   "source": [
    "'{:,}'.format( pops.POPESTIMATE2014.sum() )"
   ]
  },
  {
   "cell_type": "code",
   "execution_count": 36,
   "metadata": {},
   "outputs": [
    {
     "data": {
      "text/html": [
       "<div>\n",
       "<style scoped>\n",
       "    .dataframe tbody tr th:only-of-type {\n",
       "        vertical-align: middle;\n",
       "    }\n",
       "\n",
       "    .dataframe tbody tr th {\n",
       "        vertical-align: top;\n",
       "    }\n",
       "\n",
       "    .dataframe thead th {\n",
       "        text-align: right;\n",
       "    }\n",
       "</style>\n",
       "<table border=\"1\" class=\"dataframe\">\n",
       "  <thead>\n",
       "    <tr style=\"text-align: right;\">\n",
       "      <th></th>\n",
       "      <th>SEX</th>\n",
       "      <th>AGE</th>\n",
       "      <th>POPESTIMATE2013</th>\n",
       "      <th>POPESTIMATE2014</th>\n",
       "    </tr>\n",
       "  </thead>\n",
       "  <tbody>\n",
       "    <tr>\n",
       "      <th>4</th>\n",
       "      <td>A</td>\n",
       "      <td>4</td>\n",
       "      <td>3994047</td>\n",
       "      <td>4003448</td>\n",
       "    </tr>\n",
       "  </tbody>\n",
       "</table>\n",
       "</div>"
      ],
      "text/plain": [
       "  SEX  AGE  POPESTIMATE2013  POPESTIMATE2014\n",
       "4   A    4          3994047          4003448"
      ]
     },
     "execution_count": 36,
     "metadata": {},
     "output_type": "execute_result"
    }
   ],
   "source": [
    "pops.iloc[[4]]"
   ]
  },
  {
   "cell_type": "markdown",
   "metadata": {},
   "source": [
    "### Using a column as the index"
   ]
  },
  {
   "cell_type": "code",
   "execution_count": null,
   "metadata": {},
   "outputs": [],
   "source": [
    "csv ='../csvs/mantle.csv'\n",
    "mantle = pd.read_csv(csv, usecols=[0,1,2,3,4,5,6], index_col=['Year'])\n",
    "mantle"
   ]
  },
  {
   "cell_type": "code",
   "execution_count": 37,
   "metadata": {},
   "outputs": [
    {
     "data": {
      "text/html": [
       "<div>\n",
       "<style scoped>\n",
       "    .dataframe tbody tr th:only-of-type {\n",
       "        vertical-align: middle;\n",
       "    }\n",
       "\n",
       "    .dataframe tbody tr th {\n",
       "        vertical-align: top;\n",
       "    }\n",
       "\n",
       "    .dataframe thead th {\n",
       "        text-align: right;\n",
       "    }\n",
       "</style>\n",
       "<table border=\"1\" class=\"dataframe\">\n",
       "  <thead>\n",
       "    <tr style=\"text-align: right;\">\n",
       "      <th></th>\n",
       "      <th>SEX</th>\n",
       "      <th>AGE</th>\n",
       "      <th>POPESTIMATE2013</th>\n",
       "      <th>POPESTIMATE2014</th>\n",
       "    </tr>\n",
       "  </thead>\n",
       "  <tbody>\n",
       "    <tr>\n",
       "      <th>0</th>\n",
       "      <td>A</td>\n",
       "      <td>0</td>\n",
       "      <td>3945610</td>\n",
       "      <td>3948350</td>\n",
       "    </tr>\n",
       "    <tr>\n",
       "      <th>1</th>\n",
       "      <td>A</td>\n",
       "      <td>1</td>\n",
       "      <td>3943077</td>\n",
       "      <td>3962123</td>\n",
       "    </tr>\n",
       "    <tr>\n",
       "      <th>2</th>\n",
       "      <td>A</td>\n",
       "      <td>2</td>\n",
       "      <td>3992690</td>\n",
       "      <td>3957772</td>\n",
       "    </tr>\n",
       "    <tr>\n",
       "      <th>3</th>\n",
       "      <td>A</td>\n",
       "      <td>3</td>\n",
       "      <td>3992425</td>\n",
       "      <td>4005190</td>\n",
       "    </tr>\n",
       "    <tr>\n",
       "      <th>4</th>\n",
       "      <td>A</td>\n",
       "      <td>4</td>\n",
       "      <td>3994047</td>\n",
       "      <td>4003448</td>\n",
       "    </tr>\n",
       "    <tr>\n",
       "      <th>...</th>\n",
       "      <td>...</td>\n",
       "      <td>...</td>\n",
       "      <td>...</td>\n",
       "      <td>...</td>\n",
       "    </tr>\n",
       "    <tr>\n",
       "      <th>298</th>\n",
       "      <td>F</td>\n",
       "      <td>96</td>\n",
       "      <td>82067</td>\n",
       "      <td>89949</td>\n",
       "    </tr>\n",
       "    <tr>\n",
       "      <th>299</th>\n",
       "      <td>F</td>\n",
       "      <td>97</td>\n",
       "      <td>61693</td>\n",
       "      <td>63252</td>\n",
       "    </tr>\n",
       "    <tr>\n",
       "      <th>300</th>\n",
       "      <td>F</td>\n",
       "      <td>98</td>\n",
       "      <td>44703</td>\n",
       "      <td>46536</td>\n",
       "    </tr>\n",
       "    <tr>\n",
       "      <th>301</th>\n",
       "      <td>F</td>\n",
       "      <td>99</td>\n",
       "      <td>31378</td>\n",
       "      <td>32791</td>\n",
       "    </tr>\n",
       "    <tr>\n",
       "      <th>302</th>\n",
       "      <td>F</td>\n",
       "      <td>100</td>\n",
       "      <td>54379</td>\n",
       "      <td>58468</td>\n",
       "    </tr>\n",
       "  </tbody>\n",
       "</table>\n",
       "<p>303 rows × 4 columns</p>\n",
       "</div>"
      ],
      "text/plain": [
       "    SEX  AGE  POPESTIMATE2013  POPESTIMATE2014\n",
       "0     A    0          3945610          3948350\n",
       "1     A    1          3943077          3962123\n",
       "2     A    2          3992690          3957772\n",
       "3     A    3          3992425          4005190\n",
       "4     A    4          3994047          4003448\n",
       "..   ..  ...              ...              ...\n",
       "298   F   96            82067            89949\n",
       "299   F   97            61693            63252\n",
       "300   F   98            44703            46536\n",
       "301   F   99            31378            32791\n",
       "302   F  100            54379            58468\n",
       "\n",
       "[303 rows x 4 columns]"
      ]
     },
     "execution_count": 37,
     "metadata": {},
     "output_type": "execute_result"
    }
   ],
   "source": [
    "pops"
   ]
  },
  {
   "cell_type": "markdown",
   "metadata": {},
   "source": [
    "### Changing the index"
   ]
  },
  {
   "cell_type": "code",
   "execution_count": 41,
   "metadata": {
    "scrolled": false
   },
   "outputs": [
    {
     "data": {
      "text/html": [
       "<div>\n",
       "<style scoped>\n",
       "    .dataframe tbody tr th:only-of-type {\n",
       "        vertical-align: middle;\n",
       "    }\n",
       "\n",
       "    .dataframe tbody tr th {\n",
       "        vertical-align: top;\n",
       "    }\n",
       "\n",
       "    .dataframe thead th {\n",
       "        text-align: right;\n",
       "    }\n",
       "</style>\n",
       "<table border=\"1\" class=\"dataframe\">\n",
       "  <thead>\n",
       "    <tr style=\"text-align: right;\">\n",
       "      <th></th>\n",
       "      <th>SEX</th>\n",
       "      <th>AGE</th>\n",
       "      <th>POPESTIMATE2013</th>\n",
       "      <th>POPESTIMATE2014</th>\n",
       "    </tr>\n",
       "    <tr>\n",
       "      <th>SEX_AGE</th>\n",
       "      <th></th>\n",
       "      <th></th>\n",
       "      <th></th>\n",
       "      <th></th>\n",
       "    </tr>\n",
       "  </thead>\n",
       "  <tbody>\n",
       "    <tr>\n",
       "      <th>A0</th>\n",
       "      <td>A</td>\n",
       "      <td>0</td>\n",
       "      <td>3945610</td>\n",
       "      <td>3948350</td>\n",
       "    </tr>\n",
       "    <tr>\n",
       "      <th>A1</th>\n",
       "      <td>A</td>\n",
       "      <td>1</td>\n",
       "      <td>3943077</td>\n",
       "      <td>3962123</td>\n",
       "    </tr>\n",
       "    <tr>\n",
       "      <th>A2</th>\n",
       "      <td>A</td>\n",
       "      <td>2</td>\n",
       "      <td>3992690</td>\n",
       "      <td>3957772</td>\n",
       "    </tr>\n",
       "    <tr>\n",
       "      <th>A3</th>\n",
       "      <td>A</td>\n",
       "      <td>3</td>\n",
       "      <td>3992425</td>\n",
       "      <td>4005190</td>\n",
       "    </tr>\n",
       "    <tr>\n",
       "      <th>A4</th>\n",
       "      <td>A</td>\n",
       "      <td>4</td>\n",
       "      <td>3994047</td>\n",
       "      <td>4003448</td>\n",
       "    </tr>\n",
       "    <tr>\n",
       "      <th>...</th>\n",
       "      <td>...</td>\n",
       "      <td>...</td>\n",
       "      <td>...</td>\n",
       "      <td>...</td>\n",
       "    </tr>\n",
       "    <tr>\n",
       "      <th>F96</th>\n",
       "      <td>F</td>\n",
       "      <td>96</td>\n",
       "      <td>82067</td>\n",
       "      <td>89949</td>\n",
       "    </tr>\n",
       "    <tr>\n",
       "      <th>F97</th>\n",
       "      <td>F</td>\n",
       "      <td>97</td>\n",
       "      <td>61693</td>\n",
       "      <td>63252</td>\n",
       "    </tr>\n",
       "    <tr>\n",
       "      <th>F98</th>\n",
       "      <td>F</td>\n",
       "      <td>98</td>\n",
       "      <td>44703</td>\n",
       "      <td>46536</td>\n",
       "    </tr>\n",
       "    <tr>\n",
       "      <th>F99</th>\n",
       "      <td>F</td>\n",
       "      <td>99</td>\n",
       "      <td>31378</td>\n",
       "      <td>32791</td>\n",
       "    </tr>\n",
       "    <tr>\n",
       "      <th>F100</th>\n",
       "      <td>F</td>\n",
       "      <td>100</td>\n",
       "      <td>54379</td>\n",
       "      <td>58468</td>\n",
       "    </tr>\n",
       "  </tbody>\n",
       "</table>\n",
       "<p>303 rows × 4 columns</p>\n",
       "</div>"
      ],
      "text/plain": [
       "        SEX  AGE  POPESTIMATE2013  POPESTIMATE2014\n",
       "SEX_AGE                                           \n",
       "A0        A    0          3945610          3948350\n",
       "A1        A    1          3943077          3962123\n",
       "A2        A    2          3992690          3957772\n",
       "A3        A    3          3992425          4005190\n",
       "A4        A    4          3994047          4003448\n",
       "...      ..  ...              ...              ...\n",
       "F96       F   96            82067            89949\n",
       "F97       F   97            61693            63252\n",
       "F98       F   98            44703            46536\n",
       "F99       F   99            31378            32791\n",
       "F100      F  100            54379            58468\n",
       "\n",
       "[303 rows x 4 columns]"
      ]
     },
     "execution_count": 41,
     "metadata": {},
     "output_type": "execute_result"
    }
   ],
   "source": [
    "pops['SEX_AGE'] = pops['SEX'] + pops['AGE'].apply(str)\n",
    "pops.set_index('SEX_AGE', inplace=True)\n",
    "pops"
   ]
  },
  {
   "cell_type": "markdown",
   "metadata": {},
   "source": [
    "### Accessing Rows"
   ]
  },
  {
   "cell_type": "code",
   "execution_count": 42,
   "metadata": {},
   "outputs": [
    {
     "data": {
      "text/plain": [
       "SEX                      A\n",
       "AGE                     25\n",
       "POPESTIMATE2013    4377385\n",
       "POPESTIMATE2014    4509594\n",
       "Name: A25, dtype: object"
      ]
     },
     "execution_count": 42,
     "metadata": {},
     "output_type": "execute_result"
    }
   ],
   "source": [
    "pops.loc['A25']"
   ]
  },
  {
   "cell_type": "code",
   "execution_count": 43,
   "metadata": {
    "scrolled": true
   },
   "outputs": [
    {
     "data": {
      "text/html": [
       "<div>\n",
       "<style scoped>\n",
       "    .dataframe tbody tr th:only-of-type {\n",
       "        vertical-align: middle;\n",
       "    }\n",
       "\n",
       "    .dataframe tbody tr th {\n",
       "        vertical-align: top;\n",
       "    }\n",
       "\n",
       "    .dataframe thead th {\n",
       "        text-align: right;\n",
       "    }\n",
       "</style>\n",
       "<table border=\"1\" class=\"dataframe\">\n",
       "  <thead>\n",
       "    <tr style=\"text-align: right;\">\n",
       "      <th></th>\n",
       "      <th>SEX</th>\n",
       "      <th>AGE</th>\n",
       "      <th>POPESTIMATE2013</th>\n",
       "      <th>POPESTIMATE2014</th>\n",
       "    </tr>\n",
       "    <tr>\n",
       "      <th>SEX_AGE</th>\n",
       "      <th></th>\n",
       "      <th></th>\n",
       "      <th></th>\n",
       "      <th></th>\n",
       "    </tr>\n",
       "  </thead>\n",
       "  <tbody>\n",
       "    <tr>\n",
       "      <th>F25</th>\n",
       "      <td>F</td>\n",
       "      <td>25</td>\n",
       "      <td>2149579</td>\n",
       "      <td>2213758</td>\n",
       "    </tr>\n",
       "    <tr>\n",
       "      <th>M25</th>\n",
       "      <td>M</td>\n",
       "      <td>25</td>\n",
       "      <td>2227806</td>\n",
       "      <td>2295836</td>\n",
       "    </tr>\n",
       "    <tr>\n",
       "      <th>A25</th>\n",
       "      <td>A</td>\n",
       "      <td>25</td>\n",
       "      <td>4377385</td>\n",
       "      <td>4509594</td>\n",
       "    </tr>\n",
       "  </tbody>\n",
       "</table>\n",
       "</div>"
      ],
      "text/plain": [
       "        SEX  AGE  POPESTIMATE2013  POPESTIMATE2014\n",
       "SEX_AGE                                           \n",
       "F25       F   25          2149579          2213758\n",
       "M25       M   25          2227806          2295836\n",
       "A25       A   25          4377385          4509594"
      ]
     },
     "execution_count": 43,
     "metadata": {},
     "output_type": "execute_result"
    }
   ],
   "source": [
    "pops.loc[['F25','M25','A25']]"
   ]
  },
  {
   "cell_type": "code",
   "execution_count": 44,
   "metadata": {
    "scrolled": true
   },
   "outputs": [
    {
     "data": {
      "text/html": [
       "<div>\n",
       "<style scoped>\n",
       "    .dataframe tbody tr th:only-of-type {\n",
       "        vertical-align: middle;\n",
       "    }\n",
       "\n",
       "    .dataframe tbody tr th {\n",
       "        vertical-align: top;\n",
       "    }\n",
       "\n",
       "    .dataframe thead th {\n",
       "        text-align: right;\n",
       "    }\n",
       "</style>\n",
       "<table border=\"1\" class=\"dataframe\">\n",
       "  <thead>\n",
       "    <tr style=\"text-align: right;\">\n",
       "      <th></th>\n",
       "      <th>SEX</th>\n",
       "      <th>AGE</th>\n",
       "      <th>POPESTIMATE2013</th>\n",
       "      <th>POPESTIMATE2014</th>\n",
       "    </tr>\n",
       "    <tr>\n",
       "      <th>SEX_AGE</th>\n",
       "      <th></th>\n",
       "      <th></th>\n",
       "      <th></th>\n",
       "      <th></th>\n",
       "    </tr>\n",
       "  </thead>\n",
       "  <tbody>\n",
       "    <tr>\n",
       "      <th>A20</th>\n",
       "      <td>A</td>\n",
       "      <td>20</td>\n",
       "      <td>4459958</td>\n",
       "      <td>4418887</td>\n",
       "    </tr>\n",
       "    <tr>\n",
       "      <th>A21</th>\n",
       "      <td>A</td>\n",
       "      <td>21</td>\n",
       "      <td>4580949</td>\n",
       "      <td>4489746</td>\n",
       "    </tr>\n",
       "    <tr>\n",
       "      <th>A22</th>\n",
       "      <td>A</td>\n",
       "      <td>22</td>\n",
       "      <td>4666392</td>\n",
       "      <td>4612322</td>\n",
       "    </tr>\n",
       "    <tr>\n",
       "      <th>A23</th>\n",
       "      <td>A</td>\n",
       "      <td>23</td>\n",
       "      <td>4661403</td>\n",
       "      <td>4698584</td>\n",
       "    </tr>\n",
       "    <tr>\n",
       "      <th>A24</th>\n",
       "      <td>A</td>\n",
       "      <td>24</td>\n",
       "      <td>4479243</td>\n",
       "      <td>4692635</td>\n",
       "    </tr>\n",
       "    <tr>\n",
       "      <th>A25</th>\n",
       "      <td>A</td>\n",
       "      <td>25</td>\n",
       "      <td>4377385</td>\n",
       "      <td>4509594</td>\n",
       "    </tr>\n",
       "    <tr>\n",
       "      <th>A26</th>\n",
       "      <td>A</td>\n",
       "      <td>26</td>\n",
       "      <td>4305217</td>\n",
       "      <td>4406472</td>\n",
       "    </tr>\n",
       "    <tr>\n",
       "      <th>A27</th>\n",
       "      <td>A</td>\n",
       "      <td>27</td>\n",
       "      <td>4326704</td>\n",
       "      <td>4332545</td>\n",
       "    </tr>\n",
       "    <tr>\n",
       "      <th>A28</th>\n",
       "      <td>A</td>\n",
       "      <td>28</td>\n",
       "      <td>4364812</td>\n",
       "      <td>4351851</td>\n",
       "    </tr>\n",
       "    <tr>\n",
       "      <th>A29</th>\n",
       "      <td>A</td>\n",
       "      <td>29</td>\n",
       "      <td>4230048</td>\n",
       "      <td>4387476</td>\n",
       "    </tr>\n",
       "  </tbody>\n",
       "</table>\n",
       "</div>"
      ],
      "text/plain": [
       "        SEX  AGE  POPESTIMATE2013  POPESTIMATE2014\n",
       "SEX_AGE                                           \n",
       "A20       A   20          4459958          4418887\n",
       "A21       A   21          4580949          4489746\n",
       "A22       A   22          4666392          4612322\n",
       "A23       A   23          4661403          4698584\n",
       "A24       A   24          4479243          4692635\n",
       "A25       A   25          4377385          4509594\n",
       "A26       A   26          4305217          4406472\n",
       "A27       A   27          4326704          4332545\n",
       "A28       A   28          4364812          4351851\n",
       "A29       A   29          4230048          4387476"
      ]
     },
     "execution_count": 44,
     "metadata": {},
     "output_type": "execute_result"
    }
   ],
   "source": [
    "pops.loc['A20':'A29']"
   ]
  },
  {
   "cell_type": "code",
   "execution_count": 45,
   "metadata": {},
   "outputs": [
    {
     "data": {
      "text/plain": [
       "SEX                      A\n",
       "AGE                      4\n",
       "POPESTIMATE2013    3994047\n",
       "POPESTIMATE2014    4003448\n",
       "Name: A4, dtype: object"
      ]
     },
     "execution_count": 45,
     "metadata": {},
     "output_type": "execute_result"
    }
   ],
   "source": [
    "pops.iloc[4]"
   ]
  },
  {
   "cell_type": "code",
   "execution_count": 46,
   "metadata": {
    "scrolled": true
   },
   "outputs": [
    {
     "data": {
      "text/html": [
       "<div>\n",
       "<style scoped>\n",
       "    .dataframe tbody tr th:only-of-type {\n",
       "        vertical-align: middle;\n",
       "    }\n",
       "\n",
       "    .dataframe tbody tr th {\n",
       "        vertical-align: top;\n",
       "    }\n",
       "\n",
       "    .dataframe thead th {\n",
       "        text-align: right;\n",
       "    }\n",
       "</style>\n",
       "<table border=\"1\" class=\"dataframe\">\n",
       "  <thead>\n",
       "    <tr style=\"text-align: right;\">\n",
       "      <th></th>\n",
       "      <th>SEX</th>\n",
       "      <th>AGE</th>\n",
       "      <th>POPESTIMATE2013</th>\n",
       "      <th>POPESTIMATE2014</th>\n",
       "    </tr>\n",
       "    <tr>\n",
       "      <th>SEX_AGE</th>\n",
       "      <th></th>\n",
       "      <th></th>\n",
       "      <th></th>\n",
       "      <th></th>\n",
       "    </tr>\n",
       "  </thead>\n",
       "  <tbody>\n",
       "    <tr>\n",
       "      <th>A0</th>\n",
       "      <td>A</td>\n",
       "      <td>0</td>\n",
       "      <td>3945610</td>\n",
       "      <td>3948350</td>\n",
       "    </tr>\n",
       "    <tr>\n",
       "      <th>A1</th>\n",
       "      <td>A</td>\n",
       "      <td>1</td>\n",
       "      <td>3943077</td>\n",
       "      <td>3962123</td>\n",
       "    </tr>\n",
       "    <tr>\n",
       "      <th>A2</th>\n",
       "      <td>A</td>\n",
       "      <td>2</td>\n",
       "      <td>3992690</td>\n",
       "      <td>3957772</td>\n",
       "    </tr>\n",
       "    <tr>\n",
       "      <th>F98</th>\n",
       "      <td>F</td>\n",
       "      <td>98</td>\n",
       "      <td>44703</td>\n",
       "      <td>46536</td>\n",
       "    </tr>\n",
       "    <tr>\n",
       "      <th>F99</th>\n",
       "      <td>F</td>\n",
       "      <td>99</td>\n",
       "      <td>31378</td>\n",
       "      <td>32791</td>\n",
       "    </tr>\n",
       "    <tr>\n",
       "      <th>F100</th>\n",
       "      <td>F</td>\n",
       "      <td>100</td>\n",
       "      <td>54379</td>\n",
       "      <td>58468</td>\n",
       "    </tr>\n",
       "  </tbody>\n",
       "</table>\n",
       "</div>"
      ],
      "text/plain": [
       "        SEX  AGE  POPESTIMATE2013  POPESTIMATE2014\n",
       "SEX_AGE                                           \n",
       "A0        A    0          3945610          3948350\n",
       "A1        A    1          3943077          3962123\n",
       "A2        A    2          3992690          3957772\n",
       "F98       F   98            44703            46536\n",
       "F99       F   99            31378            32791\n",
       "F100      F  100            54379            58468"
      ]
     },
     "execution_count": 46,
     "metadata": {},
     "output_type": "execute_result"
    }
   ],
   "source": [
    "pops.iloc[[0,1,2,-3,-2,-1]]"
   ]
  },
  {
   "cell_type": "code",
   "execution_count": 47,
   "metadata": {
    "scrolled": true
   },
   "outputs": [
    {
     "data": {
      "text/html": [
       "<div>\n",
       "<style scoped>\n",
       "    .dataframe tbody tr th:only-of-type {\n",
       "        vertical-align: middle;\n",
       "    }\n",
       "\n",
       "    .dataframe tbody tr th {\n",
       "        vertical-align: top;\n",
       "    }\n",
       "\n",
       "    .dataframe thead th {\n",
       "        text-align: right;\n",
       "    }\n",
       "</style>\n",
       "<table border=\"1\" class=\"dataframe\">\n",
       "  <thead>\n",
       "    <tr style=\"text-align: right;\">\n",
       "      <th></th>\n",
       "      <th>SEX</th>\n",
       "      <th>AGE</th>\n",
       "      <th>POPESTIMATE2013</th>\n",
       "      <th>POPESTIMATE2014</th>\n",
       "    </tr>\n",
       "    <tr>\n",
       "      <th>SEX_AGE</th>\n",
       "      <th></th>\n",
       "      <th></th>\n",
       "      <th></th>\n",
       "      <th></th>\n",
       "    </tr>\n",
       "  </thead>\n",
       "  <tbody>\n",
       "    <tr>\n",
       "      <th>A0</th>\n",
       "      <td>A</td>\n",
       "      <td>0</td>\n",
       "      <td>3945610</td>\n",
       "      <td>3948350</td>\n",
       "    </tr>\n",
       "    <tr>\n",
       "      <th>A1</th>\n",
       "      <td>A</td>\n",
       "      <td>1</td>\n",
       "      <td>3943077</td>\n",
       "      <td>3962123</td>\n",
       "    </tr>\n",
       "    <tr>\n",
       "      <th>A2</th>\n",
       "      <td>A</td>\n",
       "      <td>2</td>\n",
       "      <td>3992690</td>\n",
       "      <td>3957772</td>\n",
       "    </tr>\n",
       "    <tr>\n",
       "      <th>A3</th>\n",
       "      <td>A</td>\n",
       "      <td>3</td>\n",
       "      <td>3992425</td>\n",
       "      <td>4005190</td>\n",
       "    </tr>\n",
       "    <tr>\n",
       "      <th>A4</th>\n",
       "      <td>A</td>\n",
       "      <td>4</td>\n",
       "      <td>3994047</td>\n",
       "      <td>4003448</td>\n",
       "    </tr>\n",
       "  </tbody>\n",
       "</table>\n",
       "</div>"
      ],
      "text/plain": [
       "        SEX  AGE  POPESTIMATE2013  POPESTIMATE2014\n",
       "SEX_AGE                                           \n",
       "A0        A    0          3945610          3948350\n",
       "A1        A    1          3943077          3962123\n",
       "A2        A    2          3992690          3957772\n",
       "A3        A    3          3992425          4005190\n",
       "A4        A    4          3994047          4003448"
      ]
     },
     "execution_count": 47,
     "metadata": {},
     "output_type": "execute_result"
    }
   ],
   "source": [
    "pops.iloc[:5]"
   ]
  },
  {
   "cell_type": "markdown",
   "metadata": {},
   "source": [
    "### Combining Row and Column Selection"
   ]
  },
  {
   "cell_type": "code",
   "execution_count": 51,
   "metadata": {
    "scrolled": false
   },
   "outputs": [
    {
     "data": {
      "text/plain": [
       "(        SEX  AGE  POPESTIMATE2013  POPESTIMATE2014\n",
       " SEX_AGE                                           \n",
       " A0        A    0          3945610          3948350\n",
       " A1        A    1          3943077          3962123\n",
       " A2        A    2          3992690          3957772\n",
       " A3        A    3          3992425          4005190\n",
       " A4        A    4          3994047          4003448,\n",
       " pandas.core.frame.DataFrame)"
      ]
     },
     "execution_count": 51,
     "metadata": {},
     "output_type": "execute_result"
    }
   ],
   "source": [
    "first5rows = pops.iloc[:5]\n",
    "first5rows,type(first5rows)"
   ]
  },
  {
   "cell_type": "markdown",
   "metadata": {},
   "source": [
    "#### Two Steps - Rows First"
   ]
  },
  {
   "cell_type": "code",
   "execution_count": 52,
   "metadata": {},
   "outputs": [
    {
     "data": {
      "text/html": [
       "<div>\n",
       "<style scoped>\n",
       "    .dataframe tbody tr th:only-of-type {\n",
       "        vertical-align: middle;\n",
       "    }\n",
       "\n",
       "    .dataframe tbody tr th {\n",
       "        vertical-align: top;\n",
       "    }\n",
       "\n",
       "    .dataframe thead th {\n",
       "        text-align: right;\n",
       "    }\n",
       "</style>\n",
       "<table border=\"1\" class=\"dataframe\">\n",
       "  <thead>\n",
       "    <tr style=\"text-align: right;\">\n",
       "      <th></th>\n",
       "      <th>POPESTIMATE2013</th>\n",
       "    </tr>\n",
       "    <tr>\n",
       "      <th>SEX_AGE</th>\n",
       "      <th></th>\n",
       "    </tr>\n",
       "  </thead>\n",
       "  <tbody>\n",
       "    <tr>\n",
       "      <th>A0</th>\n",
       "      <td>3945610</td>\n",
       "    </tr>\n",
       "    <tr>\n",
       "      <th>A1</th>\n",
       "      <td>3943077</td>\n",
       "    </tr>\n",
       "    <tr>\n",
       "      <th>A2</th>\n",
       "      <td>3992690</td>\n",
       "    </tr>\n",
       "    <tr>\n",
       "      <th>A3</th>\n",
       "      <td>3992425</td>\n",
       "    </tr>\n",
       "    <tr>\n",
       "      <th>A4</th>\n",
       "      <td>3994047</td>\n",
       "    </tr>\n",
       "  </tbody>\n",
       "</table>\n",
       "</div>"
      ],
      "text/plain": [
       "         POPESTIMATE2013\n",
       "SEX_AGE                 \n",
       "A0               3945610\n",
       "A1               3943077\n",
       "A2               3992690\n",
       "A3               3992425\n",
       "A4               3994047"
      ]
     },
     "execution_count": 52,
     "metadata": {},
     "output_type": "execute_result"
    }
   ],
   "source": [
    "first5rows = pops.iloc[:5]\n",
    "first5rows[['POPESTIMATE2013']]"
   ]
  },
  {
   "cell_type": "markdown",
   "metadata": {},
   "source": [
    "#### Two Steps - Columns First"
   ]
  },
  {
   "cell_type": "code",
   "execution_count": 53,
   "metadata": {},
   "outputs": [
    {
     "data": {
      "text/html": [
       "<div>\n",
       "<style scoped>\n",
       "    .dataframe tbody tr th:only-of-type {\n",
       "        vertical-align: middle;\n",
       "    }\n",
       "\n",
       "    .dataframe tbody tr th {\n",
       "        vertical-align: top;\n",
       "    }\n",
       "\n",
       "    .dataframe thead th {\n",
       "        text-align: right;\n",
       "    }\n",
       "</style>\n",
       "<table border=\"1\" class=\"dataframe\">\n",
       "  <thead>\n",
       "    <tr style=\"text-align: right;\">\n",
       "      <th></th>\n",
       "      <th>POPESTIMATE2013</th>\n",
       "    </tr>\n",
       "    <tr>\n",
       "      <th>SEX_AGE</th>\n",
       "      <th></th>\n",
       "    </tr>\n",
       "  </thead>\n",
       "  <tbody>\n",
       "    <tr>\n",
       "      <th>A0</th>\n",
       "      <td>3945610</td>\n",
       "    </tr>\n",
       "    <tr>\n",
       "      <th>A1</th>\n",
       "      <td>3943077</td>\n",
       "    </tr>\n",
       "    <tr>\n",
       "      <th>A2</th>\n",
       "      <td>3992690</td>\n",
       "    </tr>\n",
       "    <tr>\n",
       "      <th>A3</th>\n",
       "      <td>3992425</td>\n",
       "    </tr>\n",
       "    <tr>\n",
       "      <th>A4</th>\n",
       "      <td>3994047</td>\n",
       "    </tr>\n",
       "  </tbody>\n",
       "</table>\n",
       "</div>"
      ],
      "text/plain": [
       "         POPESTIMATE2013\n",
       "SEX_AGE                 \n",
       "A0               3945610\n",
       "A1               3943077\n",
       "A2               3992690\n",
       "A3               3992425\n",
       "A4               3994047"
      ]
     },
     "execution_count": 53,
     "metadata": {},
     "output_type": "execute_result"
    }
   ],
   "source": [
    "pop2013 = pops[['POPESTIMATE2013']]\n",
    "pop2013.iloc[:5]"
   ]
  },
  {
   "cell_type": "markdown",
   "metadata": {},
   "source": [
    "#### One Step - Rows First"
   ]
  },
  {
   "cell_type": "code",
   "execution_count": 54,
   "metadata": {},
   "outputs": [
    {
     "data": {
      "text/html": [
       "<div>\n",
       "<style scoped>\n",
       "    .dataframe tbody tr th:only-of-type {\n",
       "        vertical-align: middle;\n",
       "    }\n",
       "\n",
       "    .dataframe tbody tr th {\n",
       "        vertical-align: top;\n",
       "    }\n",
       "\n",
       "    .dataframe thead th {\n",
       "        text-align: right;\n",
       "    }\n",
       "</style>\n",
       "<table border=\"1\" class=\"dataframe\">\n",
       "  <thead>\n",
       "    <tr style=\"text-align: right;\">\n",
       "      <th></th>\n",
       "      <th>POPESTIMATE2013</th>\n",
       "    </tr>\n",
       "    <tr>\n",
       "      <th>SEX_AGE</th>\n",
       "      <th></th>\n",
       "    </tr>\n",
       "  </thead>\n",
       "  <tbody>\n",
       "    <tr>\n",
       "      <th>A0</th>\n",
       "      <td>3945610</td>\n",
       "    </tr>\n",
       "    <tr>\n",
       "      <th>A1</th>\n",
       "      <td>3943077</td>\n",
       "    </tr>\n",
       "    <tr>\n",
       "      <th>A2</th>\n",
       "      <td>3992690</td>\n",
       "    </tr>\n",
       "    <tr>\n",
       "      <th>A3</th>\n",
       "      <td>3992425</td>\n",
       "    </tr>\n",
       "    <tr>\n",
       "      <th>A4</th>\n",
       "      <td>3994047</td>\n",
       "    </tr>\n",
       "  </tbody>\n",
       "</table>\n",
       "</div>"
      ],
      "text/plain": [
       "         POPESTIMATE2013\n",
       "SEX_AGE                 \n",
       "A0               3945610\n",
       "A1               3943077\n",
       "A2               3992690\n",
       "A3               3992425\n",
       "A4               3994047"
      ]
     },
     "execution_count": 54,
     "metadata": {},
     "output_type": "execute_result"
    }
   ],
   "source": [
    "pops.iloc[:5][['POPESTIMATE2013']]"
   ]
  },
  {
   "cell_type": "markdown",
   "metadata": {},
   "source": [
    "#### One Step - Columns First"
   ]
  },
  {
   "cell_type": "code",
   "execution_count": 55,
   "metadata": {
    "scrolled": true
   },
   "outputs": [
    {
     "data": {
      "text/html": [
       "<div>\n",
       "<style scoped>\n",
       "    .dataframe tbody tr th:only-of-type {\n",
       "        vertical-align: middle;\n",
       "    }\n",
       "\n",
       "    .dataframe tbody tr th {\n",
       "        vertical-align: top;\n",
       "    }\n",
       "\n",
       "    .dataframe thead th {\n",
       "        text-align: right;\n",
       "    }\n",
       "</style>\n",
       "<table border=\"1\" class=\"dataframe\">\n",
       "  <thead>\n",
       "    <tr style=\"text-align: right;\">\n",
       "      <th></th>\n",
       "      <th>POPESTIMATE2013</th>\n",
       "    </tr>\n",
       "    <tr>\n",
       "      <th>SEX_AGE</th>\n",
       "      <th></th>\n",
       "    </tr>\n",
       "  </thead>\n",
       "  <tbody>\n",
       "    <tr>\n",
       "      <th>A0</th>\n",
       "      <td>3945610</td>\n",
       "    </tr>\n",
       "    <tr>\n",
       "      <th>A1</th>\n",
       "      <td>3943077</td>\n",
       "    </tr>\n",
       "    <tr>\n",
       "      <th>A2</th>\n",
       "      <td>3992690</td>\n",
       "    </tr>\n",
       "    <tr>\n",
       "      <th>A3</th>\n",
       "      <td>3992425</td>\n",
       "    </tr>\n",
       "    <tr>\n",
       "      <th>A4</th>\n",
       "      <td>3994047</td>\n",
       "    </tr>\n",
       "  </tbody>\n",
       "</table>\n",
       "</div>"
      ],
      "text/plain": [
       "         POPESTIMATE2013\n",
       "SEX_AGE                 \n",
       "A0               3945610\n",
       "A1               3943077\n",
       "A2               3992690\n",
       "A3               3992425\n",
       "A4               3994047"
      ]
     },
     "execution_count": 55,
     "metadata": {},
     "output_type": "execute_result"
    }
   ],
   "source": [
    "pops[['POPESTIMATE2013']].iloc[:5]"
   ]
  },
  {
   "cell_type": "markdown",
   "metadata": {},
   "source": [
    "#### Getting a Series"
   ]
  },
  {
   "cell_type": "code",
   "execution_count": 56,
   "metadata": {
    "scrolled": true
   },
   "outputs": [
    {
     "data": {
      "text/plain": [
       "SEX_AGE\n",
       "A0    3945610\n",
       "A1    3943077\n",
       "A2    3992690\n",
       "A3    3992425\n",
       "A4    3994047\n",
       "Name: POPESTIMATE2013, dtype: int64"
      ]
     },
     "execution_count": 56,
     "metadata": {},
     "output_type": "execute_result"
    }
   ],
   "source": [
    "pops.iloc[:5]['POPESTIMATE2013']"
   ]
  },
  {
   "cell_type": "code",
   "execution_count": 57,
   "metadata": {
    "scrolled": false
   },
   "outputs": [
    {
     "data": {
      "text/plain": [
       "SEX_AGE\n",
       "A0    3945610\n",
       "A1    3943077\n",
       "A2    3992690\n",
       "A3    3992425\n",
       "A4    3994047\n",
       "Name: POPESTIMATE2013, dtype: int64"
      ]
     },
     "execution_count": 57,
     "metadata": {},
     "output_type": "execute_result"
    }
   ],
   "source": [
    "pops.iloc[:5].POPESTIMATE2013"
   ]
  },
  {
   "cell_type": "code",
   "execution_count": 58,
   "metadata": {
    "scrolled": true
   },
   "outputs": [
    {
     "data": {
      "text/plain": [
       "SEX_AGE\n",
       "A0    3945610\n",
       "A1    3943077\n",
       "A2    3992690\n",
       "A3    3992425\n",
       "A4    3994047\n",
       "Name: POPESTIMATE2013, dtype: int64"
      ]
     },
     "execution_count": 58,
     "metadata": {},
     "output_type": "execute_result"
    }
   ],
   "source": [
    "pops['POPESTIMATE2013'].iloc[:5]"
   ]
  },
  {
   "cell_type": "code",
   "execution_count": 59,
   "metadata": {
    "scrolled": true
   },
   "outputs": [
    {
     "data": {
      "text/plain": [
       "SEX_AGE\n",
       "A0    3945610\n",
       "A1    3943077\n",
       "A2    3992690\n",
       "A3    3992425\n",
       "A4    3994047\n",
       "Name: POPESTIMATE2013, dtype: int64"
      ]
     },
     "execution_count": 59,
     "metadata": {},
     "output_type": "execute_result"
    }
   ],
   "source": [
    "pops.POPESTIMATE2013.iloc[:5]"
   ]
  },
  {
   "cell_type": "markdown",
   "metadata": {},
   "source": [
    "### Math on a DataFrame vs. a Series"
   ]
  },
  {
   "cell_type": "code",
   "execution_count": 60,
   "metadata": {
    "scrolled": true
   },
   "outputs": [
    {
     "data": {
      "text/plain": [
       "POPESTIMATE2013    3973569.8\n",
       "dtype: float64"
      ]
     },
     "execution_count": 60,
     "metadata": {},
     "output_type": "execute_result"
    }
   ],
   "source": [
    "pops.iloc[:5][['POPESTIMATE2013']].mean()"
   ]
  },
  {
   "cell_type": "code",
   "execution_count": 61,
   "metadata": {},
   "outputs": [
    {
     "data": {
      "text/plain": [
       "3973569.8"
      ]
     },
     "execution_count": 61,
     "metadata": {},
     "output_type": "execute_result"
    }
   ],
   "source": [
    "pops.iloc[:5]['POPESTIMATE2013'].mean()"
   ]
  },
  {
   "cell_type": "code",
   "execution_count": 62,
   "metadata": {},
   "outputs": [
    {
     "data": {
      "text/plain": [
       "POPESTIMATE2013    3973569.8\n",
       "POPESTIMATE2014    3975376.6\n",
       "dtype: float64"
      ]
     },
     "execution_count": 62,
     "metadata": {},
     "output_type": "execute_result"
    }
   ],
   "source": [
    "pops.iloc[:5][['POPESTIMATE2013','POPESTIMATE2014']].mean()"
   ]
  },
  {
   "cell_type": "markdown",
   "metadata": {},
   "source": [
    "### Getting Specific Data"
   ]
  },
  {
   "cell_type": "code",
   "execution_count": 63,
   "metadata": {},
   "outputs": [
    {
     "data": {
      "text/plain": [
       "1940627"
      ]
     },
     "execution_count": 63,
     "metadata": {},
     "output_type": "execute_result"
    }
   ],
   "source": [
    "pops.at['F40','POPESTIMATE2014']"
   ]
  },
  {
   "cell_type": "code",
   "execution_count": 64,
   "metadata": {
    "scrolled": true
   },
   "outputs": [
    {
     "data": {
      "text/plain": [
       "3917413"
      ]
     },
     "execution_count": 64,
     "metadata": {},
     "output_type": "execute_result"
    }
   ],
   "source": [
    "pops.iat[41,3]"
   ]
  },
  {
   "cell_type": "markdown",
   "metadata": {},
   "source": [
    "### Boolean Selection"
   ]
  },
  {
   "cell_type": "code",
   "execution_count": 65,
   "metadata": {
    "scrolled": false
   },
   "outputs": [
    {
     "data": {
      "text/html": [
       "<div>\n",
       "<style scoped>\n",
       "    .dataframe tbody tr th:only-of-type {\n",
       "        vertical-align: middle;\n",
       "    }\n",
       "\n",
       "    .dataframe tbody tr th {\n",
       "        vertical-align: top;\n",
       "    }\n",
       "\n",
       "    .dataframe thead th {\n",
       "        text-align: right;\n",
       "    }\n",
       "</style>\n",
       "<table border=\"1\" class=\"dataframe\">\n",
       "  <thead>\n",
       "    <tr style=\"text-align: right;\">\n",
       "      <th></th>\n",
       "      <th>SEX</th>\n",
       "      <th>AGE</th>\n",
       "      <th>POPESTIMATE2013</th>\n",
       "      <th>POPESTIMATE2014</th>\n",
       "    </tr>\n",
       "    <tr>\n",
       "      <th>SEX_AGE</th>\n",
       "      <th></th>\n",
       "      <th></th>\n",
       "      <th></th>\n",
       "      <th></th>\n",
       "    </tr>\n",
       "  </thead>\n",
       "  <tbody>\n",
       "    <tr>\n",
       "      <th>F0</th>\n",
       "      <td>F</td>\n",
       "      <td>0</td>\n",
       "      <td>1930073</td>\n",
       "      <td>1930493</td>\n",
       "    </tr>\n",
       "    <tr>\n",
       "      <th>F1</th>\n",
       "      <td>F</td>\n",
       "      <td>1</td>\n",
       "      <td>1927725</td>\n",
       "      <td>1938870</td>\n",
       "    </tr>\n",
       "    <tr>\n",
       "      <th>F2</th>\n",
       "      <td>F</td>\n",
       "      <td>2</td>\n",
       "      <td>1950168</td>\n",
       "      <td>1935270</td>\n",
       "    </tr>\n",
       "    <tr>\n",
       "      <th>F3</th>\n",
       "      <td>F</td>\n",
       "      <td>3</td>\n",
       "      <td>1954340</td>\n",
       "      <td>1956572</td>\n",
       "    </tr>\n",
       "    <tr>\n",
       "      <th>F4</th>\n",
       "      <td>F</td>\n",
       "      <td>4</td>\n",
       "      <td>1956094</td>\n",
       "      <td>1959950</td>\n",
       "    </tr>\n",
       "    <tr>\n",
       "      <th>...</th>\n",
       "      <td>...</td>\n",
       "      <td>...</td>\n",
       "      <td>...</td>\n",
       "      <td>...</td>\n",
       "    </tr>\n",
       "    <tr>\n",
       "      <th>F96</th>\n",
       "      <td>F</td>\n",
       "      <td>96</td>\n",
       "      <td>82067</td>\n",
       "      <td>89949</td>\n",
       "    </tr>\n",
       "    <tr>\n",
       "      <th>F97</th>\n",
       "      <td>F</td>\n",
       "      <td>97</td>\n",
       "      <td>61693</td>\n",
       "      <td>63252</td>\n",
       "    </tr>\n",
       "    <tr>\n",
       "      <th>F98</th>\n",
       "      <td>F</td>\n",
       "      <td>98</td>\n",
       "      <td>44703</td>\n",
       "      <td>46536</td>\n",
       "    </tr>\n",
       "    <tr>\n",
       "      <th>F99</th>\n",
       "      <td>F</td>\n",
       "      <td>99</td>\n",
       "      <td>31378</td>\n",
       "      <td>32791</td>\n",
       "    </tr>\n",
       "    <tr>\n",
       "      <th>F100</th>\n",
       "      <td>F</td>\n",
       "      <td>100</td>\n",
       "      <td>54379</td>\n",
       "      <td>58468</td>\n",
       "    </tr>\n",
       "  </tbody>\n",
       "</table>\n",
       "<p>101 rows × 4 columns</p>\n",
       "</div>"
      ],
      "text/plain": [
       "        SEX  AGE  POPESTIMATE2013  POPESTIMATE2014\n",
       "SEX_AGE                                           \n",
       "F0        F    0          1930073          1930493\n",
       "F1        F    1          1927725          1938870\n",
       "F2        F    2          1950168          1935270\n",
       "F3        F    3          1954340          1956572\n",
       "F4        F    4          1956094          1959950\n",
       "...      ..  ...              ...              ...\n",
       "F96       F   96            82067            89949\n",
       "F97       F   97            61693            63252\n",
       "F98       F   98            44703            46536\n",
       "F99       F   99            31378            32791\n",
       "F100      F  100            54379            58468\n",
       "\n",
       "[101 rows x 4 columns]"
      ]
     },
     "execution_count": 65,
     "metadata": {},
     "output_type": "execute_result"
    }
   ],
   "source": [
    "pops[pops.SEX == 'F']"
   ]
  },
  {
   "cell_type": "code",
   "execution_count": 66,
   "metadata": {
    "scrolled": false
   },
   "outputs": [
    {
     "data": {
      "text/html": [
       "<div>\n",
       "<style scoped>\n",
       "    .dataframe tbody tr th:only-of-type {\n",
       "        vertical-align: middle;\n",
       "    }\n",
       "\n",
       "    .dataframe tbody tr th {\n",
       "        vertical-align: top;\n",
       "    }\n",
       "\n",
       "    .dataframe thead th {\n",
       "        text-align: right;\n",
       "    }\n",
       "</style>\n",
       "<table border=\"1\" class=\"dataframe\">\n",
       "  <thead>\n",
       "    <tr style=\"text-align: right;\">\n",
       "      <th></th>\n",
       "      <th>SEX</th>\n",
       "      <th>AGE</th>\n",
       "      <th>POPESTIMATE2013</th>\n",
       "      <th>POPESTIMATE2014</th>\n",
       "    </tr>\n",
       "    <tr>\n",
       "      <th>SEX_AGE</th>\n",
       "      <th></th>\n",
       "      <th></th>\n",
       "      <th></th>\n",
       "      <th></th>\n",
       "    </tr>\n",
       "  </thead>\n",
       "  <tbody>\n",
       "    <tr>\n",
       "      <th>M0</th>\n",
       "      <td>M</td>\n",
       "      <td>0</td>\n",
       "      <td>2015537</td>\n",
       "      <td>2017857</td>\n",
       "    </tr>\n",
       "    <tr>\n",
       "      <th>M1</th>\n",
       "      <td>M</td>\n",
       "      <td>1</td>\n",
       "      <td>2015352</td>\n",
       "      <td>2023253</td>\n",
       "    </tr>\n",
       "    <tr>\n",
       "      <th>M2</th>\n",
       "      <td>M</td>\n",
       "      <td>2</td>\n",
       "      <td>2042522</td>\n",
       "      <td>2022502</td>\n",
       "    </tr>\n",
       "    <tr>\n",
       "      <th>M3</th>\n",
       "      <td>M</td>\n",
       "      <td>3</td>\n",
       "      <td>2038085</td>\n",
       "      <td>2048618</td>\n",
       "    </tr>\n",
       "    <tr>\n",
       "      <th>M4</th>\n",
       "      <td>M</td>\n",
       "      <td>4</td>\n",
       "      <td>2037953</td>\n",
       "      <td>2043498</td>\n",
       "    </tr>\n",
       "    <tr>\n",
       "      <th>...</th>\n",
       "      <td>...</td>\n",
       "      <td>...</td>\n",
       "      <td>...</td>\n",
       "      <td>...</td>\n",
       "    </tr>\n",
       "    <tr>\n",
       "      <th>F96</th>\n",
       "      <td>F</td>\n",
       "      <td>96</td>\n",
       "      <td>82067</td>\n",
       "      <td>89949</td>\n",
       "    </tr>\n",
       "    <tr>\n",
       "      <th>F97</th>\n",
       "      <td>F</td>\n",
       "      <td>97</td>\n",
       "      <td>61693</td>\n",
       "      <td>63252</td>\n",
       "    </tr>\n",
       "    <tr>\n",
       "      <th>F98</th>\n",
       "      <td>F</td>\n",
       "      <td>98</td>\n",
       "      <td>44703</td>\n",
       "      <td>46536</td>\n",
       "    </tr>\n",
       "    <tr>\n",
       "      <th>F99</th>\n",
       "      <td>F</td>\n",
       "      <td>99</td>\n",
       "      <td>31378</td>\n",
       "      <td>32791</td>\n",
       "    </tr>\n",
       "    <tr>\n",
       "      <th>F100</th>\n",
       "      <td>F</td>\n",
       "      <td>100</td>\n",
       "      <td>54379</td>\n",
       "      <td>58468</td>\n",
       "    </tr>\n",
       "  </tbody>\n",
       "</table>\n",
       "<p>202 rows × 4 columns</p>\n",
       "</div>"
      ],
      "text/plain": [
       "        SEX  AGE  POPESTIMATE2013  POPESTIMATE2014\n",
       "SEX_AGE                                           \n",
       "M0        M    0          2015537          2017857\n",
       "M1        M    1          2015352          2023253\n",
       "M2        M    2          2042522          2022502\n",
       "M3        M    3          2038085          2048618\n",
       "M4        M    4          2037953          2043498\n",
       "...      ..  ...              ...              ...\n",
       "F96       F   96            82067            89949\n",
       "F97       F   97            61693            63252\n",
       "F98       F   98            44703            46536\n",
       "F99       F   99            31378            32791\n",
       "F100      F  100            54379            58468\n",
       "\n",
       "[202 rows x 4 columns]"
      ]
     },
     "execution_count": 66,
     "metadata": {},
     "output_type": "execute_result"
    }
   ],
   "source": [
    "pops[(pops.SEX == 'F') | (pops.SEX == 'M')]"
   ]
  },
  {
   "cell_type": "code",
   "execution_count": 67,
   "metadata": {},
   "outputs": [
    {
     "data": {
      "text/html": [
       "<div>\n",
       "<style scoped>\n",
       "    .dataframe tbody tr th:only-of-type {\n",
       "        vertical-align: middle;\n",
       "    }\n",
       "\n",
       "    .dataframe tbody tr th {\n",
       "        vertical-align: top;\n",
       "    }\n",
       "\n",
       "    .dataframe thead th {\n",
       "        text-align: right;\n",
       "    }\n",
       "</style>\n",
       "<table border=\"1\" class=\"dataframe\">\n",
       "  <thead>\n",
       "    <tr style=\"text-align: right;\">\n",
       "      <th></th>\n",
       "      <th>SEX</th>\n",
       "      <th>AGE</th>\n",
       "      <th>POPESTIMATE2013</th>\n",
       "      <th>POPESTIMATE2014</th>\n",
       "    </tr>\n",
       "    <tr>\n",
       "      <th>SEX_AGE</th>\n",
       "      <th></th>\n",
       "      <th></th>\n",
       "      <th></th>\n",
       "      <th></th>\n",
       "    </tr>\n",
       "  </thead>\n",
       "  <tbody>\n",
       "    <tr>\n",
       "      <th>F66</th>\n",
       "      <td>F</td>\n",
       "      <td>66</td>\n",
       "      <td>1850730</td>\n",
       "      <td>1758649</td>\n",
       "    </tr>\n",
       "    <tr>\n",
       "      <th>F67</th>\n",
       "      <td>F</td>\n",
       "      <td>67</td>\n",
       "      <td>1376207</td>\n",
       "      <td>1832245</td>\n",
       "    </tr>\n",
       "    <tr>\n",
       "      <th>F68</th>\n",
       "      <td>F</td>\n",
       "      <td>68</td>\n",
       "      <td>1364098</td>\n",
       "      <td>1361047</td>\n",
       "    </tr>\n",
       "    <tr>\n",
       "      <th>F69</th>\n",
       "      <td>F</td>\n",
       "      <td>69</td>\n",
       "      <td>1335136</td>\n",
       "      <td>1347458</td>\n",
       "    </tr>\n",
       "    <tr>\n",
       "      <th>F70</th>\n",
       "      <td>F</td>\n",
       "      <td>70</td>\n",
       "      <td>1370786</td>\n",
       "      <td>1317238</td>\n",
       "    </tr>\n",
       "    <tr>\n",
       "      <th>...</th>\n",
       "      <td>...</td>\n",
       "      <td>...</td>\n",
       "      <td>...</td>\n",
       "      <td>...</td>\n",
       "    </tr>\n",
       "    <tr>\n",
       "      <th>F96</th>\n",
       "      <td>F</td>\n",
       "      <td>96</td>\n",
       "      <td>82067</td>\n",
       "      <td>89949</td>\n",
       "    </tr>\n",
       "    <tr>\n",
       "      <th>F97</th>\n",
       "      <td>F</td>\n",
       "      <td>97</td>\n",
       "      <td>61693</td>\n",
       "      <td>63252</td>\n",
       "    </tr>\n",
       "    <tr>\n",
       "      <th>F98</th>\n",
       "      <td>F</td>\n",
       "      <td>98</td>\n",
       "      <td>44703</td>\n",
       "      <td>46536</td>\n",
       "    </tr>\n",
       "    <tr>\n",
       "      <th>F99</th>\n",
       "      <td>F</td>\n",
       "      <td>99</td>\n",
       "      <td>31378</td>\n",
       "      <td>32791</td>\n",
       "    </tr>\n",
       "    <tr>\n",
       "      <th>F100</th>\n",
       "      <td>F</td>\n",
       "      <td>100</td>\n",
       "      <td>54379</td>\n",
       "      <td>58468</td>\n",
       "    </tr>\n",
       "  </tbody>\n",
       "</table>\n",
       "<p>35 rows × 4 columns</p>\n",
       "</div>"
      ],
      "text/plain": [
       "        SEX  AGE  POPESTIMATE2013  POPESTIMATE2014\n",
       "SEX_AGE                                           \n",
       "F66       F   66          1850730          1758649\n",
       "F67       F   67          1376207          1832245\n",
       "F68       F   68          1364098          1361047\n",
       "F69       F   69          1335136          1347458\n",
       "F70       F   70          1370786          1317238\n",
       "...      ..  ...              ...              ...\n",
       "F96       F   96            82067            89949\n",
       "F97       F   97            61693            63252\n",
       "F98       F   98            44703            46536\n",
       "F99       F   99            31378            32791\n",
       "F100      F  100            54379            58468\n",
       "\n",
       "[35 rows x 4 columns]"
      ]
     },
     "execution_count": 67,
     "metadata": {},
     "output_type": "execute_result"
    }
   ],
   "source": [
    "pops[(pops.SEX == 'F') & (pops.AGE > 65)]"
   ]
  },
  {
   "cell_type": "markdown",
   "metadata": {},
   "source": [
    "### Filtering a DataFrame with a Boolean Series"
   ]
  },
  {
   "cell_type": "code",
   "execution_count": 69,
   "metadata": {},
   "outputs": [
    {
     "data": {
      "text/plain": [
       "35     2001196\n",
       "36     1976017\n",
       "37     1919755\n",
       "38     1983827\n",
       "39     1915150\n",
       "        ...   \n",
       "96       27630\n",
       "97       18831\n",
       "98       12750\n",
       "99        8228\n",
       "100      12369\n",
       "Name: POPESTIMATE2013, Length: 66, dtype: int64"
      ]
     },
     "execution_count": 69,
     "metadata": {},
     "output_type": "execute_result"
    }
   ],
   "source": [
    "males2013 = pops[pops.SEX == 'M'].POPESTIMATE2013\n",
    "females2013 = pops[pops.SEX == 'F'].POPESTIMATE2013\n",
    "\n",
    "#Make sure Series are alignable\n",
    "males2013.index = np.arange(0,len(males2013))\n",
    "females2013.index = np.arange(0,len(females2013))\n",
    "\n",
    "males = pops[pops.SEX == 'M'].POPESTIMATE2013\n",
    "males.index = np.arange(0,len(males))\n",
    "males[males2013 < females2013]"
   ]
  },
  {
   "cell_type": "markdown",
   "metadata": {},
   "source": [
    "CSV Source: Vintage 2014 National Population Datasets\n",
    "\n",
    "https://www.census.gov/popest/data/national/asrh/2014/files/NC-EST2014-AGESEX-RES.csv"
   ]
  }
 ],
 "metadata": {
  "kernelspec": {
   "display_name": "Python 3",
   "language": "python",
   "name": "python3"
  },
  "language_info": {
   "codemirror_mode": {
    "name": "ipython",
    "version": 3
   },
   "file_extension": ".py",
   "mimetype": "text/x-python",
   "name": "python",
   "nbconvert_exporter": "python",
   "pygments_lexer": "ipython3",
   "version": "3.6.5"
  }
 },
 "nbformat": 4,
 "nbformat_minor": 1
}
