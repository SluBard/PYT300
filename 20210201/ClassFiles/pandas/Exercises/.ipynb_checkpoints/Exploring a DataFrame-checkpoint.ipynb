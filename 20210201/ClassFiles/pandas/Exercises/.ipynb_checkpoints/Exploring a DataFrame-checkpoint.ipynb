{
 "cells": [
  {
   "cell_type": "markdown",
   "metadata": {},
   "source": [
    "# Exploring a DataFrame"
   ]
  },
  {
   "cell_type": "markdown",
   "metadata": {},
   "source": [
    "## Setup"
   ]
  },
  {
   "cell_type": "code",
   "execution_count": 1,
   "metadata": {},
   "outputs": [],
   "source": [
    "import numpy as np\n",
    "import pandas as pd\n",
    "\n",
    "pd.set_option('display.max_columns', 10)\n",
    "pd.set_option('display.max_rows', 10)"
   ]
  },
  {
   "cell_type": "markdown",
   "metadata": {},
   "source": [
    "## Create DataFrame from mantle.csv\n",
    "Get the first seven columns and use 'Year' as the index column."
   ]
  },
  {
   "cell_type": "code",
   "execution_count": 2,
   "metadata": {},
   "outputs": [
    {
     "data": {
      "text/html": [
       "<div>\n",
       "<style scoped>\n",
       "    .dataframe tbody tr th:only-of-type {\n",
       "        vertical-align: middle;\n",
       "    }\n",
       "\n",
       "    .dataframe tbody tr th {\n",
       "        vertical-align: top;\n",
       "    }\n",
       "\n",
       "    .dataframe thead th {\n",
       "        text-align: right;\n",
       "    }\n",
       "</style>\n",
       "<table border=\"1\" class=\"dataframe\">\n",
       "  <thead>\n",
       "    <tr style=\"text-align: right;\">\n",
       "      <th></th>\n",
       "      <th>Year</th>\n",
       "      <th>Tm</th>\n",
       "      <th>G</th>\n",
       "      <th>PA</th>\n",
       "      <th>AB</th>\n",
       "      <th>R</th>\n",
       "      <th>H</th>\n",
       "    </tr>\n",
       "  </thead>\n",
       "  <tbody>\n",
       "    <tr>\n",
       "      <th>0</th>\n",
       "      <td>1951</td>\n",
       "      <td>NYY</td>\n",
       "      <td>96</td>\n",
       "      <td>386</td>\n",
       "      <td>341</td>\n",
       "      <td>61</td>\n",
       "      <td>91</td>\n",
       "    </tr>\n",
       "    <tr>\n",
       "      <th>1</th>\n",
       "      <td>1952</td>\n",
       "      <td>NYY</td>\n",
       "      <td>142</td>\n",
       "      <td>626</td>\n",
       "      <td>549</td>\n",
       "      <td>94</td>\n",
       "      <td>171</td>\n",
       "    </tr>\n",
       "    <tr>\n",
       "      <th>2</th>\n",
       "      <td>1953</td>\n",
       "      <td>NYY</td>\n",
       "      <td>127</td>\n",
       "      <td>540</td>\n",
       "      <td>461</td>\n",
       "      <td>105</td>\n",
       "      <td>136</td>\n",
       "    </tr>\n",
       "    <tr>\n",
       "      <th>3</th>\n",
       "      <td>1954</td>\n",
       "      <td>NYY</td>\n",
       "      <td>146</td>\n",
       "      <td>649</td>\n",
       "      <td>543</td>\n",
       "      <td>129</td>\n",
       "      <td>163</td>\n",
       "    </tr>\n",
       "    <tr>\n",
       "      <th>4</th>\n",
       "      <td>1955</td>\n",
       "      <td>NYY</td>\n",
       "      <td>147</td>\n",
       "      <td>638</td>\n",
       "      <td>517</td>\n",
       "      <td>121</td>\n",
       "      <td>158</td>\n",
       "    </tr>\n",
       "    <tr>\n",
       "      <th>...</th>\n",
       "      <td>...</td>\n",
       "      <td>...</td>\n",
       "      <td>...</td>\n",
       "      <td>...</td>\n",
       "      <td>...</td>\n",
       "      <td>...</td>\n",
       "      <td>...</td>\n",
       "    </tr>\n",
       "    <tr>\n",
       "      <th>13</th>\n",
       "      <td>1964</td>\n",
       "      <td>NYY</td>\n",
       "      <td>143</td>\n",
       "      <td>567</td>\n",
       "      <td>465</td>\n",
       "      <td>92</td>\n",
       "      <td>141</td>\n",
       "    </tr>\n",
       "    <tr>\n",
       "      <th>14</th>\n",
       "      <td>1965</td>\n",
       "      <td>NYY</td>\n",
       "      <td>122</td>\n",
       "      <td>435</td>\n",
       "      <td>361</td>\n",
       "      <td>44</td>\n",
       "      <td>92</td>\n",
       "    </tr>\n",
       "    <tr>\n",
       "      <th>15</th>\n",
       "      <td>1966</td>\n",
       "      <td>NYY</td>\n",
       "      <td>108</td>\n",
       "      <td>393</td>\n",
       "      <td>333</td>\n",
       "      <td>40</td>\n",
       "      <td>96</td>\n",
       "    </tr>\n",
       "    <tr>\n",
       "      <th>16</th>\n",
       "      <td>1967</td>\n",
       "      <td>NYY</td>\n",
       "      <td>144</td>\n",
       "      <td>553</td>\n",
       "      <td>440</td>\n",
       "      <td>63</td>\n",
       "      <td>108</td>\n",
       "    </tr>\n",
       "    <tr>\n",
       "      <th>17</th>\n",
       "      <td>1968</td>\n",
       "      <td>NYY</td>\n",
       "      <td>144</td>\n",
       "      <td>547</td>\n",
       "      <td>435</td>\n",
       "      <td>57</td>\n",
       "      <td>103</td>\n",
       "    </tr>\n",
       "  </tbody>\n",
       "</table>\n",
       "<p>18 rows × 7 columns</p>\n",
       "</div>"
      ],
      "text/plain": [
       "    Year   Tm    G   PA   AB    R    H\n",
       "0   1951  NYY   96  386  341   61   91\n",
       "1   1952  NYY  142  626  549   94  171\n",
       "2   1953  NYY  127  540  461  105  136\n",
       "3   1954  NYY  146  649  543  129  163\n",
       "4   1955  NYY  147  638  517  121  158\n",
       "..   ...  ...  ...  ...  ...  ...  ...\n",
       "13  1964  NYY  143  567  465   92  141\n",
       "14  1965  NYY  122  435  361   44   92\n",
       "15  1966  NYY  108  393  333   40   96\n",
       "16  1967  NYY  144  553  440   63  108\n",
       "17  1968  NYY  144  547  435   57  103\n",
       "\n",
       "[18 rows x 7 columns]"
      ]
     },
     "execution_count": 2,
     "metadata": {},
     "output_type": "execute_result"
    }
   ],
   "source": [
    "df = pd.read_csv('../csvs/mantle.csv', usecols=[0,1,2,3,4,5,6],index=)\n",
    "df"
   ]
  },
  {
   "cell_type": "markdown",
   "metadata": {},
   "source": [
    "## Explore DataFrame\n",
    "Get the column names, index, and the number of rows and columns"
   ]
  },
  {
   "cell_type": "markdown",
   "metadata": {},
   "source": [
    "## Get quick information on the data\n",
    "For example, counts, means, mins and maxes"
   ]
  },
  {
   "cell_type": "markdown",
   "metadata": {},
   "source": [
    "## Get the first three rows of data"
   ]
  },
  {
   "cell_type": "markdown",
   "metadata": {},
   "source": [
    "## Get the last three rows of data"
   ]
  },
  {
   "cell_type": "markdown",
   "metadata": {},
   "source": [
    "## Get just the AB and H columns"
   ]
  }
 ],
 "metadata": {
  "kernelspec": {
   "display_name": "Python 3",
   "language": "python",
   "name": "python3"
  },
  "language_info": {
   "codemirror_mode": {
    "name": "ipython",
    "version": 3
   },
   "file_extension": ".py",
   "mimetype": "text/x-python",
   "name": "python",
   "nbconvert_exporter": "python",
   "pygments_lexer": "ipython3",
   "version": "3.6.5"
  }
 },
 "nbformat": 4,
 "nbformat_minor": 1
}
