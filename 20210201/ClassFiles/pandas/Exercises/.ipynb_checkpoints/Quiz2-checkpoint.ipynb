{
 "cells": [
  {
   "cell_type": "code",
   "execution_count": 1,
   "metadata": {},
   "outputs": [
    {
     "data": {
      "text/html": [
       "<script>\n",
       "    var kernel = IPython.notebook.kernel;\n",
       "\n",
       "    var answers = ['0x1388288', '0x26']; //hex values\n",
       "\n",
       "    function checkAnswer(li) {\n",
       "        qNum = $(li).children('button:first').attr(\"id\").split(\"-\")[1];\n",
       "        correctAnswer = answers[qNum];\n",
       "        userAnswer = $(li).children('input:first').val();\n",
       "        outputSpan = $(li).children('span:first');\n",
       "\n",
       "        if ($.trim(userAnswer) == parseInt(correctAnswer,16)) {\n",
       "            outputSpan.html(\"Correct!\");\n",
       "            outputSpan.removeClass('error');\n",
       "        } else {\n",
       "            outputSpan.html(\"Incorrect\");\n",
       "            outputSpan.addClass('error');\n",
       "        }\n",
       "    }\n",
       "\n",
       "    function toggleCode() {\n",
       "        console.log( \"Toggling Code.\" );\n",
       "\n",
       "        $(\"div.code_cell:first > div.input\").toggle(750);\n",
       "        $(\"div.code_cell:first > div.output_wrapper div.output_prompt\").toggle(0);\n",
       "        $(\"div.code_cell:first > div.output_wrapper div.out_prompt_overlay\").toggle(0);\n",
       "\n",
       "        if ($(\"#show-hide-button\").text() == \"Show Python Code\") {\n",
       "            $(\"#show-hide-button\").text(\"Hide Python Code\");\n",
       "        } else {\n",
       "            $(\"#show-hide-button\").text(\"Show Python Code\");\n",
       "        }\n",
       "    }\n",
       "\n",
       "    function showQuestions() {\n",
       "        console.log( \"Adding questions.\");\n",
       "        var questions = \"\";\n",
       "        var floatclass = 'left';\n",
       "        for (var i=0; i<answers.length; i++) {\n",
       "            questions += \"<li class='\" + floatclass + \"'><input> <button id='q-\" + i + \"' onclick='checkAnswer($(this).parent())'>Check</button> <span class='result'></span></li>\";\n",
       "            floatclass = (floatclass==\"left\") ? \"right\" : \"left\";\n",
       "        }\n",
       "        $(\"#questions\").html(questions);\n",
       "\n",
       "        $('input').keypress(function (e) {\n",
       "            if (e.which == 13) {\n",
       "                checkAnswer($(this).parent());\n",
       "                return false;\n",
       "            }\n",
       "});\n",
       "    }\n",
       "\n",
       "    $( document ).ready(showQuestions);\n",
       "    $( document ).ready(toggleCode);\n",
       "</script>\n",
       "<style>\n",
       "    ol { width:600px; }\n",
       "    ol#questions li { margin:3px; width:280px;}\n",
       "    input { width: 120px; }\n",
       "\n",
       "    .result {\n",
       "        color:darkgreen;\n",
       "        font-weight:bold;\n",
       "    }\n",
       "\n",
       "    .left {\n",
       "        float: left;\n",
       "        clear:both;\n",
       "    }\n",
       "\n",
       "    .right { float: right; }\n",
       "    .error { color:#f00; }\n",
       "\n",
       "    #show-hide-button {\n",
       "        position:absolute;\n",
       "        bottom:10px;\n",
       "        right:10px;\n",
       "        color:#00f;\n",
       "        text-decoration:underline;\n",
       "        font-size:xx-small;\n",
       "        cursor:pointer;\n",
       "    }\n",
       "</style>\n",
       "<h1>Quiz</h1>\n",
       "<ol id=\"questions\"></ol>\n",
       "<span onclick=\"toggleCode()\" id=\"show-hide-button\">Hide Python Code</span>\n",
       "\n"
      ],
      "text/plain": [
       "<IPython.core.display.HTML object>"
      ]
     },
     "execution_count": 1,
     "metadata": {},
     "output_type": "execute_result"
    }
   ],
   "source": [
    "from IPython.display import HTML\n",
    "import numpy as np\n",
    "import pandas as pd\n",
    "\n",
    "with open('quiz-pandas.html') as f:\n",
    "    quiz_form = f.read()\n",
    "    \n",
    "\n",
    "pd.set_option('display.max_columns', 10)\n",
    "pd.set_option('display.max_rows', 10)\n",
    "\n",
    "csv ='../csvs/us-population-2010-2014.csv'\n",
    "pops = pd.read_csv(csv, usecols=[0,1,5,6], thousands=',')\n",
    "    \n",
    "HTML(quiz_form)"
   ]
  },
  {
   "cell_type": "markdown",
   "metadata": {},
   "source": [
    "### Setup\n",
    "Run the cell above this to import NumPy and pandas and create a pandas DataFrame called `pops`.\n",
    "\n",
    "Write code to answer the questions below and check your answers in the boxes that appear above."
   ]
  },
  {
   "cell_type": "markdown",
   "metadata": {},
   "source": [
    "### Question 1\n",
    "How many males in their 30s were there in 2013?"
   ]
  },
  {
   "cell_type": "code",
   "execution_count": 4,
   "metadata": {},
   "outputs": [
    {
     "ename": "TypeError",
     "evalue": "cannot compare a dtyped [int64] array with a scalar of type [bool]",
     "output_type": "error",
     "traceback": [
      "\u001b[1;31m---------------------------------------------------------------------------\u001b[0m",
      "\u001b[1;31mTypeError\u001b[0m                                 Traceback (most recent call last)",
      "\u001b[1;32mC:\\ProgramData\\Anaconda3\\lib\\site-packages\\pandas\\core\\ops.py\u001b[0m in \u001b[0;36mna_op\u001b[1;34m(x, y)\u001b[0m\n\u001b[0;32m   1273\u001b[0m         \u001b[1;32mtry\u001b[0m\u001b[1;33m:\u001b[0m\u001b[1;33m\u001b[0m\u001b[0m\n\u001b[1;32m-> 1274\u001b[1;33m             \u001b[0mresult\u001b[0m \u001b[1;33m=\u001b[0m \u001b[0mop\u001b[0m\u001b[1;33m(\u001b[0m\u001b[0mx\u001b[0m\u001b[1;33m,\u001b[0m \u001b[0my\u001b[0m\u001b[1;33m)\u001b[0m\u001b[1;33m\u001b[0m\u001b[0m\n\u001b[0m\u001b[0;32m   1275\u001b[0m         \u001b[1;32mexcept\u001b[0m \u001b[0mTypeError\u001b[0m\u001b[1;33m:\u001b[0m\u001b[1;33m\u001b[0m\u001b[0m\n",
      "\u001b[1;32mC:\\ProgramData\\Anaconda3\\lib\\site-packages\\pandas\\core\\ops.py\u001b[0m in \u001b[0;36mrand_\u001b[1;34m(left, right)\u001b[0m\n\u001b[0;32m    145\u001b[0m \u001b[1;32mdef\u001b[0m \u001b[0mrand_\u001b[0m\u001b[1;33m(\u001b[0m\u001b[0mleft\u001b[0m\u001b[1;33m,\u001b[0m \u001b[0mright\u001b[0m\u001b[1;33m)\u001b[0m\u001b[1;33m:\u001b[0m\u001b[1;33m\u001b[0m\u001b[0m\n\u001b[1;32m--> 146\u001b[1;33m     \u001b[1;32mreturn\u001b[0m \u001b[0moperator\u001b[0m\u001b[1;33m.\u001b[0m\u001b[0mand_\u001b[0m\u001b[1;33m(\u001b[0m\u001b[0mright\u001b[0m\u001b[1;33m,\u001b[0m \u001b[0mleft\u001b[0m\u001b[1;33m)\u001b[0m\u001b[1;33m\u001b[0m\u001b[0m\n\u001b[0m\u001b[0;32m    147\u001b[0m \u001b[1;33m\u001b[0m\u001b[0m\n",
      "\u001b[1;31mTypeError\u001b[0m: ufunc 'bitwise_and' not supported for the input types, and the inputs could not be safely coerced to any supported types according to the casting rule ''safe''",
      "\nDuring handling of the above exception, another exception occurred:\n",
      "\u001b[1;31mValueError\u001b[0m                                Traceback (most recent call last)",
      "\u001b[1;32mC:\\ProgramData\\Anaconda3\\lib\\site-packages\\pandas\\core\\ops.py\u001b[0m in \u001b[0;36mna_op\u001b[1;34m(x, y)\u001b[0m\n\u001b[0;32m   1290\u001b[0m                 \u001b[1;32mtry\u001b[0m\u001b[1;33m:\u001b[0m\u001b[1;33m\u001b[0m\u001b[0m\n\u001b[1;32m-> 1291\u001b[1;33m                     \u001b[0mresult\u001b[0m \u001b[1;33m=\u001b[0m \u001b[0mlibops\u001b[0m\u001b[1;33m.\u001b[0m\u001b[0mscalar_binop\u001b[0m\u001b[1;33m(\u001b[0m\u001b[0mx\u001b[0m\u001b[1;33m,\u001b[0m \u001b[0my\u001b[0m\u001b[1;33m,\u001b[0m \u001b[0mop\u001b[0m\u001b[1;33m)\u001b[0m\u001b[1;33m\u001b[0m\u001b[0m\n\u001b[0m\u001b[0;32m   1292\u001b[0m                 \u001b[1;32mexcept\u001b[0m\u001b[1;33m:\u001b[0m\u001b[1;33m\u001b[0m\u001b[0m\n",
      "\u001b[1;32mpandas\\_libs\\ops.pyx\u001b[0m in \u001b[0;36mpandas._libs.ops.scalar_binop\u001b[1;34m()\u001b[0m\n",
      "\u001b[1;31mValueError\u001b[0m: Buffer dtype mismatch, expected 'Python object' but got 'long long'",
      "\nDuring handling of the above exception, another exception occurred:\n",
      "\u001b[1;31mTypeError\u001b[0m                                 Traceback (most recent call last)",
      "\u001b[1;32m<ipython-input-4-72100ba2d907>\u001b[0m in \u001b[0;36m<module>\u001b[1;34m()\u001b[0m\n\u001b[0;32m      1\u001b[0m \u001b[1;31m#Do your work here and then check your answer in field 1 above.\u001b[0m\u001b[1;33m\u001b[0m\u001b[1;33m\u001b[0m\u001b[0m\n\u001b[1;32m----> 2\u001b[1;33m \u001b[0mpops\u001b[0m\u001b[1;33m.\u001b[0m\u001b[0mPOPESTIMATE2013\u001b[0m\u001b[1;33m[\u001b[0m\u001b[0mpops\u001b[0m\u001b[1;33m.\u001b[0m\u001b[0mSEX\u001b[0m\u001b[1;33m==\u001b[0m\u001b[1;34m'M'\u001b[0m\u001b[1;33m&\u001b[0m\u001b[0mpops\u001b[0m\u001b[1;33m.\u001b[0m\u001b[0mAGE\u001b[0m\u001b[1;33m>=\u001b[0m\u001b[1;36m30\u001b[0m\u001b[1;33m&\u001b[0m\u001b[0mpops\u001b[0m\u001b[1;33m.\u001b[0m\u001b[0mAGE\u001b[0m\u001b[1;33m<\u001b[0m\u001b[1;36m40\u001b[0m\u001b[1;33m]\u001b[0m\u001b[1;33m\u001b[0m\u001b[0m\n\u001b[0m",
      "\u001b[1;32mC:\\ProgramData\\Anaconda3\\lib\\site-packages\\pandas\\core\\ops.py\u001b[0m in \u001b[0;36mwrapper\u001b[1;34m(self, other)\u001b[0m\n\u001b[0;32m   1328\u001b[0m                       is_integer_dtype(np.asarray(other)) else fill_bool)\n\u001b[0;32m   1329\u001b[0m \u001b[1;33m\u001b[0m\u001b[0m\n\u001b[1;32m-> 1330\u001b[1;33m             \u001b[0mres_values\u001b[0m \u001b[1;33m=\u001b[0m \u001b[0mna_op\u001b[0m\u001b[1;33m(\u001b[0m\u001b[0mself\u001b[0m\u001b[1;33m.\u001b[0m\u001b[0mvalues\u001b[0m\u001b[1;33m,\u001b[0m \u001b[0mother\u001b[0m\u001b[1;33m)\u001b[0m\u001b[1;33m\u001b[0m\u001b[0m\n\u001b[0m\u001b[0;32m   1331\u001b[0m             \u001b[0munfilled\u001b[0m \u001b[1;33m=\u001b[0m \u001b[0mself\u001b[0m\u001b[1;33m.\u001b[0m\u001b[0m_constructor\u001b[0m\u001b[1;33m(\u001b[0m\u001b[0mres_values\u001b[0m\u001b[1;33m,\u001b[0m \u001b[0mindex\u001b[0m\u001b[1;33m=\u001b[0m\u001b[0mself\u001b[0m\u001b[1;33m.\u001b[0m\u001b[0mindex\u001b[0m\u001b[1;33m)\u001b[0m\u001b[1;33m\u001b[0m\u001b[0m\n\u001b[0;32m   1332\u001b[0m             \u001b[1;32mreturn\u001b[0m \u001b[0mfiller\u001b[0m\u001b[1;33m(\u001b[0m\u001b[0munfilled\u001b[0m\u001b[1;33m)\u001b[0m\u001b[1;33m.\u001b[0m\u001b[0m__finalize__\u001b[0m\u001b[1;33m(\u001b[0m\u001b[0mself\u001b[0m\u001b[1;33m)\u001b[0m\u001b[1;33m\u001b[0m\u001b[0m\n",
      "\u001b[1;32mC:\\ProgramData\\Anaconda3\\lib\\site-packages\\pandas\\core\\ops.py\u001b[0m in \u001b[0;36mna_op\u001b[1;34m(x, y)\u001b[0m\n\u001b[0;32m   1294\u001b[0m                                     \u001b[1;34m\"with a scalar of type [{typ}]\"\u001b[0m\u001b[1;33m\u001b[0m\u001b[0m\n\u001b[0;32m   1295\u001b[0m                                     .format(dtype=x.dtype,\n\u001b[1;32m-> 1296\u001b[1;33m                                             typ=type(y).__name__))\n\u001b[0m\u001b[0;32m   1297\u001b[0m \u001b[1;33m\u001b[0m\u001b[0m\n\u001b[0;32m   1298\u001b[0m         \u001b[1;32mreturn\u001b[0m \u001b[0mresult\u001b[0m\u001b[1;33m\u001b[0m\u001b[0m\n",
      "\u001b[1;31mTypeError\u001b[0m: cannot compare a dtyped [int64] array with a scalar of type [bool]"
     ]
    }
   ],
   "source": [
    "#Do your work here and then check your answer in field 1 above.\n",
    "pops.POPESTIMATE2013[pops.SEX=='M'&pops.AGE>=30&pops.AGE<40]"
   ]
  },
  {
   "cell_type": "markdown",
   "metadata": {},
   "source": [
    "### Question 2\n",
    "What was the average age of all people in 2014 rounded to the nearest integer?"
   ]
  },
  {
   "cell_type": "code",
   "execution_count": null,
   "metadata": {},
   "outputs": [],
   "source": [
    "#Do your work here and then check your answer in field 2 above."
   ]
  },
  {
   "cell_type": "markdown",
   "metadata": {},
   "source": [
    "### Problem 1\n",
    "Write a check to make sure that there are no age groups in which the number of females plus the number of males does not add up to the total number of people that age in 2014."
   ]
  },
  {
   "cell_type": "code",
   "execution_count": null,
   "metadata": {
    "collapsed": true
   },
   "outputs": [],
   "source": [
    "#Do your work here."
   ]
  },
  {
   "cell_type": "markdown",
   "metadata": {},
   "source": [
    "### Problem 2\n",
    "Create a `pop2014` DataFrame with three columns: Males, Females, All "
   ]
  },
  {
   "cell_type": "code",
   "execution_count": null,
   "metadata": {
    "collapsed": true
   },
   "outputs": [],
   "source": [
    "#Do your work here."
   ]
  }
 ],
 "metadata": {
  "kernelspec": {
   "display_name": "Python 3",
   "language": "python",
   "name": "python3"
  },
  "language_info": {
   "codemirror_mode": {
    "name": "ipython",
    "version": 3
   },
   "file_extension": ".py",
   "mimetype": "text/x-python",
   "name": "python",
   "nbconvert_exporter": "python",
   "pygments_lexer": "ipython3",
   "version": "3.6.5"
  }
 },
 "nbformat": 4,
 "nbformat_minor": 1
}
