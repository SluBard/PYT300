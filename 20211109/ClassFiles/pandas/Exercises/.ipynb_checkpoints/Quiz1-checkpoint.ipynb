{
 "cells": [
  {
   "cell_type": "code",
   "execution_count": 1,
   "metadata": {},
   "outputs": [
    {
     "data": {
      "text/html": [
       "<script>\n",
       "    var kernel = IPython.notebook.kernel;\n",
       "    \n",
       "    var answers = ['0x78', '-0x7583', '-0x11d3', '0x2d0','-0x7a83','-0x5be', 'BUS','N']; //hex values\n",
       "\n",
       "    function checkAnswer(li) {\n",
       "        qNum = $(li).children('button:first').attr(\"id\").split(\"-\")[1];\n",
       "        correctAnswer = answers[qNum];\n",
       "        userAnswer = $.trim($(li).children('input:first').val());\n",
       "        outputSpan = $(li).children('span:first');\n",
       "        \n",
       "        if (isNaN(userAnswer) && userAnswer.toUpperCase() == correctAnswer) {\n",
       "            outputSpan.html(\"Correct!\");\n",
       "            outputSpan.removeClass('error');\n",
       "        } else if ($.trim(userAnswer) == parseInt(correctAnswer,16)) {\n",
       "            outputSpan.html(\"Correct!\");\n",
       "            outputSpan.removeClass('error');\n",
       "        } else {   \n",
       "            outputSpan.html(\"Incorrect\");\n",
       "            outputSpan.addClass('error');\n",
       "        }\n",
       "    }\n",
       "\n",
       "    function toggleCode() {\n",
       "        console.log( \"Toggling Code.\" );\n",
       "        \n",
       "        $(\"div.code_cell:first > div.input\").toggle(750);\n",
       "        $(\"div.code_cell:first > div.output_wrapper div.output_prompt\").toggle(0);\n",
       "        $(\"div.code_cell:first > div.output_wrapper div.out_prompt_overlay\").toggle(0);\n",
       "        \n",
       "        if ($(\"#show-hide-button\").text() == \"Show Python Code\") {\n",
       "            $(\"#show-hide-button\").text(\"Hide Python Code\");\n",
       "        } else {\n",
       "            $(\"#show-hide-button\").text(\"Show Python Code\");\n",
       "        }\n",
       "    }\n",
       "    \n",
       "    function showQuestions() {\n",
       "        console.log( \"Adding questions.\");\n",
       "        var questions = \"\";\n",
       "        var floatclass = 'left';\n",
       "        for (var i=0; i<answers.length; i++) {\n",
       "            questions += \"<li class='\" + floatclass + \"'><input> <button id='q-\" + i + \"' onclick='checkAnswer($(this).parent())'>Check</button> <span class='result'></span></li>\";\n",
       "            floatclass = (floatclass==\"left\") ? \"right\" : \"left\";\n",
       "        }\n",
       "        $(\"#questions\").html(questions);\n",
       "        \n",
       "        $('input').keypress(function (e) {\n",
       "            if (e.which == 13) {\n",
       "                checkAnswer($(this).parent());\n",
       "                return false;\n",
       "            }\n",
       "});\n",
       "    }\n",
       "    \n",
       "    $( document ).ready(showQuestions);\n",
       "    $( document ).ready(toggleCode);\n",
       "</script>\n",
       "<style>\n",
       "    ol { width:600px; }\n",
       "    ol#questions li { margin:3px; width:280px;}\n",
       "    input { width: 120px; }\n",
       "    \n",
       "    .result {\n",
       "        color:darkgreen;\n",
       "        font-weight:bold;\n",
       "    }\n",
       "    \n",
       "    .left {\n",
       "        float: left;\n",
       "        clear:both;\n",
       "    }\n",
       "    \n",
       "    .right { float: right; }\n",
       "    .error { color:#f00; }\n",
       "    \n",
       "    #show-hide-button {\n",
       "        position:absolute;\n",
       "        bottom:10px;\n",
       "        right:10px;\n",
       "        color:#00f;\n",
       "        text-decoration:underline;\n",
       "        font-size:xx-small;\n",
       "        cursor:pointer;\n",
       "    }\n",
       "</style>\n",
       "<h1>Quiz</h1>\n",
       "<ol id=\"questions\"></ol>\n",
       "<span onclick=\"toggleCode()\" id=\"show-hide-button\">Hide Python Code</span>\n",
       "    \n"
      ],
      "text/plain": [
       "<IPython.core.display.HTML object>"
      ]
     },
     "execution_count": 1,
     "metadata": {},
     "output_type": "execute_result"
    }
   ],
   "source": [
    "from IPython.display import HTML\n",
    "import numpy as np\n",
    "import pandas as pd\n",
    "\n",
    "with open('quiz-pandas-series.html') as f:\n",
    "    quiz_form = f.read()\n",
    "\n",
    "pd.set_option('display.max_columns', 10)\n",
    "pd.set_option('display.max_rows', 10)\n",
    "\n",
    "s = pd.read_csv('quiz1-nums.txt', squeeze=True, header=None, dtype=int)\n",
    "s.index = ['AAH','AAL','AAS','ABA','ABS','ABY','ACE','ACT','ADD','ADO','ADS',\n",
    "           'ADZ','AFF','AFT','AGA','AGE','AGO','AHA','AHI','AHS','AID','AIL',\n",
    "           'AIM','AIN','AIR','AIS','AIT','ALA','ALB','ALE','ALL','ALP','ALS',\n",
    "           'ALT','AMA','AMI','AMP','AMU','ANA','AND','ANE','ANI','ANT','ANY',\n",
    "           'APE','APP','APT','ARB','ARC','ARE','ARF','ARK','ARM','ARS','ART',\n",
    "           'ASH','ASK','ASP','ATE','ATT','AUK','AVA','AVE','AVO','AWA','AWE',\n",
    "           'AWL','AWN','AXE','AYE','AYS','AZO','BAA','BAD','BAG','BAH','BAL',\n",
    "           'BAM','BAN','BAP','BAR','BAS','BAT','BAY','BED','BEE','BEG','BEL',\n",
    "           'BEN','BET','BEY','BIB','BID','BIG','BIN','BIO','BIS','BIT','BIZ',\n",
    "           'BOA','BOB','BOD','BOG','BOO','BOP','BOS','BOT','BOW','BOX','BOY',\n",
    "           'BRA','BRO','BRR','BUB','BUD','BUG','BUM','BUN','BUR','BUS']\n",
    "    \n",
    "HTML(quiz_form)"
   ]
  },
  {
   "cell_type": "markdown",
   "metadata": {},
   "source": [
    "### Setup\n",
    "Run the cell above this to import NumPy and pandas and create a pandas Series called `s`.\n",
    "\n",
    "Write code to answer the questions below and check your answers in the boxes that appear above."
   ]
  },
  {
   "cell_type": "markdown",
   "metadata": {},
   "source": [
    "### Question 1 - 4\n",
    "1. How many elements are in the `s` Series?\n",
    "1. What is the value of the first element?\n",
    "1. What is the value of the last element?\n",
    "1. What is the value of the 3rd to last element?"
   ]
  },
  {
   "cell_type": "code",
   "execution_count": 6,
   "metadata": {},
   "outputs": [
    {
     "data": {
      "text/plain": [
       "(120, -30083, -30083, -4563, -4563, 720, 720)"
      ]
     },
     "execution_count": 6,
     "metadata": {},
     "output_type": "execute_result"
    }
   ],
   "source": [
    "#Do your work for questions 1-4 here.\n",
    "s.size,s[0],s.iloc[0],s[-1],s.iloc[-1],s[-3],s.iloc[-3]"
   ]
  },
  {
   "cell_type": "markdown",
   "metadata": {},
   "source": [
    "### Questions 5 - 7\n",
    "<ol start=\"5\">\n",
    "<li>What is the value of the element with label 'ADS'?</li>\n",
    "<li>What is the value of the element with label 'BAA'?</li>\n",
    "<li>What is the index label of the last element?</li>\n",
    "</ol>"
   ]
  },
  {
   "cell_type": "code",
   "execution_count": null,
   "metadata": {},
   "outputs": [],
   "source": [
    "#Do your work for questions 5-7 here."
   ]
  },
  {
   "cell_type": "markdown",
   "metadata": {},
   "source": [
    "### Question 8 (this is tricky)\n",
    "<ol start=\"8\">\n",
    "<li>Are there any `NaN` values in the `s` Series? Y or N</li>\n",
    "</ol>"
   ]
  },
  {
   "cell_type": "code",
   "execution_count": null,
   "metadata": {},
   "outputs": [],
   "source": [
    "#Do your work for question 8 here."
   ]
  }
 ],
 "metadata": {
  "kernelspec": {
   "display_name": "Python 3",
   "language": "python",
   "name": "python3"
  },
  "language_info": {
   "codemirror_mode": {
    "name": "ipython",
    "version": 3
   },
   "file_extension": ".py",
   "mimetype": "text/x-python",
   "name": "python",
   "nbconvert_exporter": "python",
   "pygments_lexer": "ipython3",
   "version": "3.6.5"
  }
 },
 "nbformat": 4,
 "nbformat_minor": 1
}
