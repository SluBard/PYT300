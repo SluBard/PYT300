{
 "cells": [
  {
   "cell_type": "code",
   "execution_count": 1,
   "metadata": {},
   "outputs": [
    {
     "data": {
      "text/html": [
       "<script>\n",
       "    var kernel = IPython.notebook.kernel;\n",
       "\n",
       "    var answers = ['0x1388288', '0x26']; //hex values\n",
       "\n",
       "    function checkAnswer(li) {\n",
       "        qNum = $(li).children('button:first').attr(\"id\").split(\"-\")[1];\n",
       "        correctAnswer = answers[qNum];\n",
       "        userAnswer = $(li).children('input:first').val();\n",
       "        outputSpan = $(li).children('span:first');\n",
       "\n",
       "        if ($.trim(userAnswer) == parseInt(correctAnswer,16)) {\n",
       "            outputSpan.html(\"Correct!\");\n",
       "            outputSpan.removeClass('error');\n",
       "        } else {\n",
       "            outputSpan.html(\"Incorrect\");\n",
       "            outputSpan.addClass('error');\n",
       "        }\n",
       "    }\n",
       "\n",
       "    function toggleCode() {\n",
       "        console.log( \"Toggling Code.\" );\n",
       "\n",
       "        $(\"div.code_cell:first > div.input\").toggle(750);\n",
       "        $(\"div.code_cell:first > div.output_wrapper div.output_prompt\").toggle(0);\n",
       "        $(\"div.code_cell:first > div.output_wrapper div.out_prompt_overlay\").toggle(0);\n",
       "\n",
       "        if ($(\"#show-hide-button\").text() == \"Show Python Code\") {\n",
       "            $(\"#show-hide-button\").text(\"Hide Python Code\");\n",
       "        } else {\n",
       "            $(\"#show-hide-button\").text(\"Show Python Code\");\n",
       "        }\n",
       "    }\n",
       "\n",
       "    function showQuestions() {\n",
       "        console.log( \"Adding questions.\");\n",
       "        var questions = \"\";\n",
       "        var floatclass = 'left';\n",
       "        for (var i=0; i<answers.length; i++) {\n",
       "            questions += \"<li class='\" + floatclass + \"'><input> <button id='q-\" + i + \"' onclick='checkAnswer($(this).parent())'>Check</button> <span class='result'></span></li>\";\n",
       "            floatclass = (floatclass==\"left\") ? \"right\" : \"left\";\n",
       "        }\n",
       "        $(\"#questions\").html(questions);\n",
       "\n",
       "        $('input').keypress(function (e) {\n",
       "            if (e.which == 13) {\n",
       "                checkAnswer($(this).parent());\n",
       "                return false;\n",
       "            }\n",
       "});\n",
       "    }\n",
       "\n",
       "    $( document ).ready(showQuestions);\n",
       "    $( document ).ready(toggleCode);\n",
       "</script>\n",
       "<style>\n",
       "    ol { width:600px; }\n",
       "    ol#questions li { margin:3px; width:280px;}\n",
       "    input { width: 120px; }\n",
       "\n",
       "    .result {\n",
       "        color:darkgreen;\n",
       "        font-weight:bold;\n",
       "    }\n",
       "\n",
       "    .left {\n",
       "        float: left;\n",
       "        clear:both;\n",
       "    }\n",
       "\n",
       "    .right { float: right; }\n",
       "    .error { color:#f00; }\n",
       "\n",
       "    #show-hide-button {\n",
       "        position:absolute;\n",
       "        bottom:10px;\n",
       "        right:10px;\n",
       "        color:#00f;\n",
       "        text-decoration:underline;\n",
       "        font-size:xx-small;\n",
       "        cursor:pointer;\n",
       "    }\n",
       "</style>\n",
       "<h1>Quiz</h1>\n",
       "<ol id=\"questions\"></ol>\n",
       "<span onclick=\"toggleCode()\" id=\"show-hide-button\">Hide Python Code</span>\n",
       "\n"
      ],
      "text/plain": [
       "<IPython.core.display.HTML object>"
      ]
     },
     "execution_count": 1,
     "metadata": {},
     "output_type": "execute_result"
    }
   ],
   "source": [
    "from IPython.display import HTML\n",
    "import numpy as np\n",
    "import pandas as pd\n",
    "\n",
    "with open('quiz-pandas.html') as f:\n",
    "    quiz_form = f.read()\n",
    "    \n",
    "\n",
    "pd.set_option('display.max_columns', 10)\n",
    "pd.set_option('display.max_rows', 10)\n",
    "\n",
    "csv ='../csvs/us-population-2010-2014.csv'\n",
    "pops = pd.read_csv(csv, usecols=[0,1,5,6], thousands=',')\n",
    "    \n",
    "HTML(quiz_form)"
   ]
  },
  {
   "cell_type": "markdown",
   "metadata": {},
   "source": [
    "### Setup\n",
    "Run the cell above this to import NumPy and pandas and create a pandas DataFrame called `pops`.\n",
    "\n",
    "Write code to answer the questions below and check your answers in the boxes that appear above."
   ]
  },
  {
   "cell_type": "markdown",
   "metadata": {},
   "source": [
    "### Question 1\n",
    "How many males in their 30s were there in 2013?"
   ]
  },
  {
   "cell_type": "code",
   "execution_count": 2,
   "metadata": {},
   "outputs": [
    {
     "data": {
      "text/plain": [
       "20480648"
      ]
     },
     "execution_count": 2,
     "metadata": {},
     "output_type": "execute_result"
    }
   ],
   "source": [
    "#Do your work here and then check your answer in field 1 above.\n",
    "pops.POPESTIMATE2013[(pops.SEX=='M')&(pops.AGE>29)&(pops.AGE<40)].sum()"
   ]
  },
  {
   "cell_type": "markdown",
   "metadata": {},
   "source": [
    "### Question 2\n",
    "What was the average age of all people in 2014 rounded to the nearest integer?"
   ]
  },
  {
   "cell_type": "code",
   "execution_count": 3,
   "metadata": {},
   "outputs": [
    {
     "data": {
      "text/plain": [
       "38"
      ]
     },
     "execution_count": 3,
     "metadata": {},
     "output_type": "execute_result"
    }
   ],
   "source": [
    "#Do your work here and then check your answer in field 2 above.\n",
    "int(round((pops.AGE*pops.POPESTIMATE2014).sum()/pops.POPESTIMATE2014.sum()))"
   ]
  },
  {
   "cell_type": "markdown",
   "metadata": {},
   "source": [
    "### Problem 1\n",
    "Write a check to make sure that there are no age groups in which the number of females plus the number of males does not add up to the total number of people that age in 2014."
   ]
  },
  {
   "cell_type": "code",
   "execution_count": 4,
   "metadata": {},
   "outputs": [
    {
     "data": {
      "text/plain": [
       "Series([], Name: POPESTIMATE2014, dtype: int64)"
      ]
     },
     "execution_count": 4,
     "metadata": {},
     "output_type": "execute_result"
    }
   ],
   "source": [
    "#Do your work here.\n",
    "m=pops.POPESTIMATE2014[pops.SEX=='M']\n",
    "f=pops.POPESTIMATE2014[pops.SEX=='F']\n",
    "a=pops.POPESTIMATE2014[pops.SEX=='A']\n",
    "\n",
    "m.index=np.arange(len(m))\n",
    "f.index=np.arange(len(f))\n",
    "a.index=np.arange(len(a))\n",
    "\n",
    "a[m+f != a]"
   ]
  },
  {
   "cell_type": "markdown",
   "metadata": {},
   "source": [
    "### Problem 2\n",
    "Create a `pop2014` DataFrame with three columns: Males, Females, All "
   ]
  },
  {
   "cell_type": "code",
   "execution_count": null,
   "metadata": {
    "collapsed": true
   },
   "outputs": [],
   "source": [
    "#Do your work here.\n",
    "m=pops.POPESTIMATE2014[pops.SEX=='M']\n",
    "f=pops.POPESTIMATE2014[pops.SEX=='F']\n",
    "a=pops.POPESTIMATE2014[pops.SEX=='A']\n",
    "\n",
    "m."
   ]
  }
 ],
 "metadata": {
  "kernelspec": {
   "display_name": "Python 3",
   "language": "python",
   "name": "python3"
  },
  "language_info": {
   "codemirror_mode": {
    "name": "ipython",
    "version": 3
   },
   "file_extension": ".py",
   "mimetype": "text/x-python",
   "name": "python",
   "nbconvert_exporter": "python",
   "pygments_lexer": "ipython3",
   "version": "3.6.5"
  }
 },
 "nbformat": 4,
 "nbformat_minor": 1
}
