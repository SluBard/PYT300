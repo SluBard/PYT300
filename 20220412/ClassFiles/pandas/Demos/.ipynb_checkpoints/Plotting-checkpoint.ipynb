{
 "cells": [
  {
   "cell_type": "markdown",
   "metadata": {},
   "source": [
    "# Plotting with matplotlib"
   ]
  },
  {
   "cell_type": "markdown",
   "metadata": {},
   "source": [
    "### Setup"
   ]
  },
  {
   "cell_type": "code",
   "execution_count": 1,
   "metadata": {},
   "outputs": [],
   "source": [
    "%matplotlib inline\n",
    "import numpy as np\n",
    "import pandas as pd\n",
    "\n",
    "pd.set_option('display.max_columns', 10)\n",
    "pd.set_option('display.max_rows', 10)"
   ]
  },
  {
   "cell_type": "markdown",
   "metadata": {},
   "source": [
    "### Getting the pop2014 DataFrame"
   ]
  },
  {
   "cell_type": "code",
   "execution_count": 2,
   "metadata": {},
   "outputs": [
    {
     "data": {
      "text/html": [
       "<div>\n",
       "<style scoped>\n",
       "    .dataframe tbody tr th:only-of-type {\n",
       "        vertical-align: middle;\n",
       "    }\n",
       "\n",
       "    .dataframe tbody tr th {\n",
       "        vertical-align: top;\n",
       "    }\n",
       "\n",
       "    .dataframe thead th {\n",
       "        text-align: right;\n",
       "    }\n",
       "</style>\n",
       "<table border=\"1\" class=\"dataframe\">\n",
       "  <thead>\n",
       "    <tr style=\"text-align: right;\">\n",
       "      <th></th>\n",
       "      <th>Males</th>\n",
       "      <th>Females</th>\n",
       "      <th>All</th>\n",
       "    </tr>\n",
       "  </thead>\n",
       "  <tbody>\n",
       "    <tr>\n",
       "      <th>0</th>\n",
       "      <td>2017857</td>\n",
       "      <td>1930493</td>\n",
       "      <td>3948350</td>\n",
       "    </tr>\n",
       "    <tr>\n",
       "      <th>1</th>\n",
       "      <td>2023253</td>\n",
       "      <td>1938870</td>\n",
       "      <td>3962123</td>\n",
       "    </tr>\n",
       "    <tr>\n",
       "      <th>2</th>\n",
       "      <td>2022502</td>\n",
       "      <td>1935270</td>\n",
       "      <td>3957772</td>\n",
       "    </tr>\n",
       "    <tr>\n",
       "      <th>3</th>\n",
       "      <td>2048618</td>\n",
       "      <td>1956572</td>\n",
       "      <td>4005190</td>\n",
       "    </tr>\n",
       "    <tr>\n",
       "      <th>4</th>\n",
       "      <td>2043498</td>\n",
       "      <td>1959950</td>\n",
       "      <td>4003448</td>\n",
       "    </tr>\n",
       "    <tr>\n",
       "      <th>...</th>\n",
       "      <td>...</td>\n",
       "      <td>...</td>\n",
       "      <td>...</td>\n",
       "    </tr>\n",
       "    <tr>\n",
       "      <th>96</th>\n",
       "      <td>31235</td>\n",
       "      <td>89949</td>\n",
       "      <td>121184</td>\n",
       "    </tr>\n",
       "    <tr>\n",
       "      <th>97</th>\n",
       "      <td>20479</td>\n",
       "      <td>63252</td>\n",
       "      <td>83731</td>\n",
       "    </tr>\n",
       "    <tr>\n",
       "      <th>98</th>\n",
       "      <td>13649</td>\n",
       "      <td>46536</td>\n",
       "      <td>60185</td>\n",
       "    </tr>\n",
       "    <tr>\n",
       "      <th>99</th>\n",
       "      <td>9037</td>\n",
       "      <td>32791</td>\n",
       "      <td>41828</td>\n",
       "    </tr>\n",
       "    <tr>\n",
       "      <th>100</th>\n",
       "      <td>13729</td>\n",
       "      <td>58468</td>\n",
       "      <td>72197</td>\n",
       "    </tr>\n",
       "  </tbody>\n",
       "</table>\n",
       "<p>101 rows × 3 columns</p>\n",
       "</div>"
      ],
      "text/plain": [
       "       Males  Females      All\n",
       "0    2017857  1930493  3948350\n",
       "1    2023253  1938870  3962123\n",
       "2    2022502  1935270  3957772\n",
       "3    2048618  1956572  4005190\n",
       "4    2043498  1959950  4003448\n",
       "..       ...      ...      ...\n",
       "96     31235    89949   121184\n",
       "97     20479    63252    83731\n",
       "98     13649    46536    60185\n",
       "99      9037    32791    41828\n",
       "100    13729    58468    72197\n",
       "\n",
       "[101 rows x 3 columns]"
      ]
     },
     "execution_count": 2,
     "metadata": {},
     "output_type": "execute_result"
    }
   ],
   "source": [
    "csv ='../csvs/us-population-2010-2014.csv'\n",
    "pops = pd.read_csv(csv, usecols=[0,1,5,6], thousands=',')\n",
    "males = pops[pops.SEX == 'M'].POPESTIMATE2014\n",
    "females = pops[pops.SEX == 'F'].POPESTIMATE2014\n",
    "\n",
    "#Make sure Series are alignable\n",
    "males.index = np.arange(0,len(males))\n",
    "females.index = np.arange(0,len(females))\n",
    "\n",
    "pop2014 = pd.concat([males, females], axis=1)\n",
    "pop2014.columns = ['Males','Females']\n",
    "pop2014['All'] = pop2014.Males + pop2014.Females\n",
    "pop2014"
   ]
  },
  {
   "cell_type": "code",
   "execution_count": 3,
   "metadata": {},
   "outputs": [
    {
     "data": {
      "image/png": "[encoded data removed]",
      "text/plain": [
       "<Figure size 432x288 with 1 Axes>"
      ]
     },
     "metadata": {},
     "output_type": "display_data"
    }
   ],
   "source": [
    "plot = pop2014.plot()\n",
    "plot.grid(True)"
   ]
  },
  {
   "cell_type": "markdown",
   "metadata": {},
   "source": [
    "#### Function to convert integer into comma-separated string"
   ]
  },
  {
   "cell_type": "code",
   "execution_count": null,
   "metadata": {},
   "outputs": [],
   "source": [
    "def comma(num):\n",
    "    return \"{:,}\".format(num)"
   ]
  },
  {
   "cell_type": "markdown",
   "metadata": {},
   "source": [
    "### Create a Line Plot"
   ]
  },
  {
   "cell_type": "code",
   "execution_count": null,
   "metadata": {},
   "outputs": [],
   "source": [
    "plt_pop2014 = pop2014.plot(title = \"Population by Age: 2014\",\n",
    "                           style=['b--', 'm^', 'k-'],\n",
    "                           figsize=(12,6),\n",
    "                           lw = 3) \n",
    "\n",
    "plt_pop2014.set_xlabel('Age')\n",
    "plt_pop2014.set_ylabel('Population')\n",
    "plt_pop2014.legend(['M','F','A'], loc=\"lower left\")\n",
    "plt_pop2014.set_xticks(np.arange(0,101,10))\n",
    "plt_pop2014.grid(True)\n",
    "\n",
    "yticks = np.arange(500000,5000001,500000)\n",
    "ytick_labels = pd.Series(yticks).apply(comma)\n",
    "\n",
    "plt_pop2014.set_yticks(yticks)\n",
    "plt_pop2014.set_yticklabels(ytick_labels);"
   ]
  },
  {
   "cell_type": "markdown",
   "metadata": {},
   "source": [
    "### Create a Bar Plot"
   ]
  },
  {
   "cell_type": "code",
   "execution_count": null,
   "metadata": {},
   "outputs": [],
   "source": [
    "csv ='../csvs/mantle.csv'\n",
    "mantle = pd.read_csv(csv, index_col='Year', usecols=[0,7,8,9])"
   ]
  },
  {
   "cell_type": "code",
   "execution_count": null,
   "metadata": {
    "scrolled": true
   },
   "outputs": [],
   "source": [
    "plt_mantle = mantle.plot(kind='bar',\n",
    "                         title = 'Mickey Mantle: Doubles, Triples, and Home Runs',\n",
    "                         figsize=(12,6),\n",
    "                         width=.8,\n",
    "                         fontsize=16)\n",
    "\n",
    "plt_mantle.set_ylabel('Number', fontsize=20)\n",
    "plt_mantle.set_xlabel('Year', fontsize=20)\n",
    "plt_mantle.grid(True)\n",
    "\n",
    "bars = plt_mantle.patches\n",
    "\n",
    "for i in np.arange(0,18):\n",
    "    bars[i].set_hatch('-')\n",
    "for i in np.arange(18,36):\n",
    "    bars[i].set_hatch('o')\n",
    "for i in np.arange(36,54):\n",
    "    bars[i].set_hatch('/')\n",
    "    \n",
    "plt_mantle.legend(['Doubles','Triples','Home Runs'],\n",
    "                  loc=\"upper right\", fontsize='xx-large');"
   ]
  }
 ],
 "metadata": {
  "kernelspec": {
   "display_name": "Python 3",
   "language": "python",
   "name": "python3"
  },
  "language_info": {
   "codemirror_mode": {
    "name": "ipython",
    "version": 3
   },
   "file_extension": ".py",
   "mimetype": "text/x-python",
   "name": "python",
   "nbconvert_exporter": "python",
   "pygments_lexer": "ipython3",
   "version": "3.6.5"
  }
 },
 "nbformat": 4,
 "nbformat_minor": 1
}
