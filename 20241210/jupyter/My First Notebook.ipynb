{
 "cells": [
  {
   "cell_type": "code",
   "execution_count": 4,
   "metadata": {},
   "outputs": [
    {
     "name": "stdout",
     "output_type": "stream",
     "text": [
      "Enter name: Bryan Ard\n"
     ]
    }
   ],
   "source": [
    "yourname = input(\"Enter name: \")"
   ]
  },
  {
   "cell_type": "code",
   "execution_count": 5,
   "metadata": {
    "scrolled": true
   },
   "outputs": [
    {
     "name": "stdout",
     "output_type": "stream",
     "text": [
      "hello world Bryan Ard\n"
     ]
    }
   ],
   "source": [
    "print('hello world', yourname)"
   ]
  },
  {
   "cell_type": "code",
   "execution_count": 6,
   "metadata": {},
   "outputs": [
    {
     "data": {
      "text/plain": [
       "2"
      ]
     },
     "execution_count": 6,
     "metadata": {},
     "output_type": "execute_result"
    }
   ],
   "source": [
    "1+1"
   ]
  },
  {
   "cell_type": "code",
   "execution_count": 7,
   "metadata": {},
   "outputs": [
    {
     "name": "stdout",
     "output_type": "stream",
     "text": [
      "hello world\n",
      "None\n"
     ]
    }
   ],
   "source": [
    "result=print(\"hello world\")\n",
    "print(result)"
   ]
  },
  {
   "cell_type": "code",
   "execution_count": 16,
   "metadata": {},
   "outputs": [
    {
     "name": "stdout",
     "output_type": "stream",
     "text": [
      "hello world!\n",
      "I printed this stuff: hello world!\n"
     ]
    }
   ],
   "source": [
    "def my_print(text):\n",
    "    print(text)\n",
    "    return 'I printed this stuff: ' + text\n",
    "result=my_print('hello world!')\n",
    "print(result)"
   ]
  },
  {
   "cell_type": "code",
   "execution_count": 19,
   "metadata": {},
   "outputs": [
    {
     "data": {
      "application/javascript": [
       "IPython.notebook.set_autosave_interval(30000)"
      ]
     },
     "metadata": {},
     "output_type": "display_data"
    },
    {
     "name": "stdout",
     "output_type": "stream",
     "text": [
      "Autosaving every 30 seconds\n"
     ]
    }
   ],
   "source": [
    "%autosave 30"
   ]
  },
  {
   "cell_type": "code",
   "execution_count": 20,
   "metadata": {},
   "outputs": [],
   "source": [
    "%bookmark here"
   ]
  },
  {
   "cell_type": "code",
   "execution_count": 21,
   "metadata": {},
   "outputs": [
    {
     "name": "stdout",
     "output_type": "stream",
     "text": [
      "Current bookmarks:\n",
      "here -> C:\\Users\\cwod_admin\\Desktop\\PYT300\\20241210\\jupyter\n"
     ]
    }
   ],
   "source": [
    "%bookmark -l"
   ]
  },
  {
   "cell_type": "code",
   "execution_count": 22,
   "metadata": {},
   "outputs": [
    {
     "name": "stdout",
     "output_type": "stream",
     "text": [
      "C:\\Users\\cwod_admin\\Desktop\\PYT300\\20241210\n"
     ]
    },
    {
     "data": {
      "text/plain": [
       "'C:\\\\Users\\\\cwod_admin\\\\Desktop\\\\PYT300\\\\20241210'"
      ]
     },
     "execution_count": 22,
     "metadata": {},
     "output_type": "execute_result"
    }
   ],
   "source": [
    "%cd ..\n",
    "%pwd"
   ]
  },
  {
   "cell_type": "code",
   "execution_count": 23,
   "metadata": {
    "scrolled": true
   },
   "outputs": [
    {
     "name": "stdout",
     "output_type": "stream",
     "text": [
      "(bookmark:here) -> C:\\Users\\cwod_admin\\Desktop\\PYT300\\20241210\\jupyter\n",
      "C:\\Users\\cwod_admin\\Desktop\\PYT300\\20241210\\jupyter\n"
     ]
    }
   ],
   "source": [
    "%cd here"
   ]
  },
  {
   "cell_type": "code",
   "execution_count": 24,
   "metadata": {},
   "outputs": [
    {
     "name": "stdout",
     "output_type": "stream",
     "text": [
      "print('hello world')\n",
      "print('hello world')\n",
      "print('hello world')\n",
      "yourname = input(\"Enter name: \")\n",
      "print('hello world', yourname)\n",
      "1+1\n",
      "result=print(\"hello world\")\n",
      "print(result)\n",
      "def my_print(text):\n",
      "    print(text)\n",
      "    return 'I printed ' + text\n",
      "result=my_print('hello world!')\n",
      "print(result)\n",
      "result=my_print('hello world!')\n",
      "print(result)\n",
      "def my_print(text):\n",
      "    print(text)\n",
      "    return 'I printed ' + text\n",
      "result=my_print('hello world!')\n",
      "print(result)\n",
      "result=my_print('hello world!')\n",
      "print(result)\n",
      "def my_print(text):\n",
      "    print(text)\n",
      "    return 'I printed this stuff: ' + text\n",
      "result=my_print('hello world!')\n",
      "print(result)\n",
      "def my_print(text):\n",
      "    print(text)\n",
      "    return 'I printed this stuff: ' + text\n",
      "result=my_print('hello world!')\n",
      "print(result)\n",
      "%automagic\n",
      "%pwd\n",
      "%autosave 30\n",
      "%bookmark here\n",
      "%bookmark -l\n",
      "%cd ..\n",
      "%pwd\n",
      "%cd here\n",
      "%history\n"
     ]
    }
   ],
   "source": [
    "%history"
   ]
  },
  {
   "cell_type": "code",
   "execution_count": 26,
   "metadata": {},
   "outputs": [
    {
     "data": {
      "text/plain": [
       "'C:\\\\ProgramData\\\\Anaconda3;C:\\\\ProgramData\\\\Anaconda3\\\\Library\\\\mingw-w64\\\\bin;C:\\\\ProgramData\\\\Anaconda3\\\\Library\\\\usr\\\\bin;C:\\\\ProgramData\\\\Anaconda3\\\\Library\\\\bin;C:\\\\ProgramData\\\\Anaconda3\\\\Scripts;C:\\\\ProgramData\\\\Anaconda3\\\\bin;C:\\\\WINDOWS\\\\system32;C:\\\\WINDOWS;C:\\\\WINDOWS\\\\System32\\\\Wbem;C:\\\\WINDOWS\\\\System32\\\\WindowsPowerShell\\\\v1.0;C:\\\\WINDOWS\\\\System32\\\\WindowsPowerShell\\\\v1.0\\\\;C:\\\\WINDOWS\\\\System32\\\\OpenSSH\\\\;C:\\\\Users\\\\cwod_admin\\\\Anaconda3;C:\\\\Users\\\\cwod_admin\\\\Anaconda3\\\\Scripts;C:\\\\Users\\\\cwod_admin\\\\Anaconda3\\\\Library\\\\bin;;C:\\\\Users\\\\cwod_admin\\\\AppData\\\\Local\\\\Microsoft\\\\WindowsApps'"
      ]
     },
     "execution_count": 26,
     "metadata": {},
     "output_type": "execute_result"
    }
   ],
   "source": [
    "%env PATH"
   ]
  },
  {
   "cell_type": "code",
   "execution_count": null,
   "metadata": {},
   "outputs": [],
   "source": []
  }
 ],
 "metadata": {
  "kernelspec": {
   "display_name": "Python 3",
   "language": "python",
   "name": "python3"
  },
  "language_info": {
   "codemirror_mode": {
    "name": "ipython",
    "version": 3
   },
   "file_extension": ".py",
   "mimetype": "text/x-python",
   "name": "python",
   "nbconvert_exporter": "python",
   "pygments_lexer": "ipython3",
   "version": "3.6.5"
  }
 },
 "nbformat": 4,
 "nbformat_minor": 2
}
